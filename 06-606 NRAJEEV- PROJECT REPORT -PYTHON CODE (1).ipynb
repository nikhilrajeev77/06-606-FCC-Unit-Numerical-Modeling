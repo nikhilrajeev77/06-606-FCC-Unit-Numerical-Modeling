{
 "cells": [
  {
   "cell_type": "markdown",
   "metadata": {},
   "source": [
    "## <center>Appendix-1</center>\n",
    "## <center>06-606 Project Report - Python Code</center>"
   ]
  },
  {
   "cell_type": "markdown",
   "metadata": {},
   "source": [
    "The code report consists of the following sections:\n",
    "    1. Solution of ODE using Scipy odient package (Adams Method)\n",
    "       1.1 Solver used from odient package\n",
    "       1.2 Boundary conditions solved using fsolve\n",
    "       1.3 Time taken for execution of ODE solver\n",
    "       1.4 Concentration profile\n",
    "       1.5 Riser temperature profile\n",
    "       1.6 Conversion along the riser length\n",
    "       1.7 Yield varying with inlet flow rates\n",
    "       1.8 Yield vs conversion\n",
    "       1.9 Gasoline flow rate vs feed inlet temperature\n",
    "       1.10 fsolve output\n",
    "       1.11 Odient output (Model Stiffness evaluation)\n",
    "    2. Manually implemented 4th order Range Kutta Method\n",
    "       2.1 Manual implementation of 4th order explicit Range Kutta Method\n",
    "       2.2 Computational Time taken for executing the solver\n",
    "       2.3 Concentration profile\n",
    "       2.4 Riser temperature profile\n",
    "       2.5 Conversion along the riser length\n",
    "       2.6 Yield vs conversion\n",
    "    3. Boundary condition using manual implementation of Newtons method\n",
    "    4. Manually implemented Eulers Method\n",
    "       4.1 Manual implementation of Eulers method\n",
    "       4.2 Time taken for executing the solver\n",
    "       4.3 Concentration profile\n",
    "       4.4 Riser temperature profile\n",
    "       4.5 Conversion along riser length\n",
    "       4.6 Yield vs conversion\n",
    "    5. Sensitivity Analysis\n",
    "       5.1 Sensitivity Analysis for Gasoline Flow\n",
    "           5.1.1 Results obtained\n",
    "       5.2 Sensitivity Analysis for Maximum feed temperature\n",
    "           5.2.1 Results obtained\n",
    "    6. Plots for optimizing critical parameters\n",
    "       6.1 Variation of Feed Temperature - Riser temperature and Product Flow\n",
    "       6.2 Variation of Feed flow rate - Riser Temperature\n",
    "       6.3 Variation of Riser length on Product flow\n",
    "       6.4 Gasoline production at varying inlet flow rate for different riser length\n",
    "       \n",
    "       "
   ]
  },
  {
   "cell_type": "markdown",
   "metadata": {},
   "source": [
    "# 1. Solution of the system by python buildin packages (scipy.integrate.odeint and scipy.optimize.fsolve)"
   ]
  },
  {
   "cell_type": "markdown",
   "metadata": {},
   "source": [
    "## 1.1 Solving the ODE equations using Python buildin solver (odeint) - using Adams method since the system is not stiff\n",
    "\n",
    "Scipy odeint solver evaluates the equation for stiffness and selects the method accordingly. \n",
    "BDF solver is used for stiff system and Adams method is used for non stiff system.\n",
    "\n",
    "\n",
    "## 1.2 Boundary condition is solved using fsolve\n",
    "\n",
    "odeint fsolve uses Powell’s Hybrid method as implemented in the HYBRJ algorithm in MINPACK using Python odeint fsolve. This algorithm uses dogleg step.\n",
    "\n",
    "       "
   ]
  },
  {
   "cell_type": "code",
   "execution_count": 47,
   "metadata": {
    "scrolled": false
   },
   "outputs": [],
   "source": [
    "import numpy as np\n",
    "import scipy\n",
    "from scipy.integrate import odeint \n",
    "from scipy import integrate\n",
    "import matplotlib.pyplot as py\n",
    "import timeit\n",
    "import time\n",
    "from scipy.optimize import fsolve\n",
    "\n",
    "zspan  = np.linspace(0,33)\n",
    "Q_overall = 25.7 # kg/sec\n",
    "Q = 0.945*Q_overall\n",
    "\n",
    "F_s = 0.055*Q_overall\n",
    "Ts = 773 #K\n",
    "T_gasvap = 698 #K\n",
    "Hvap = 190 # kJ/kg\n",
    "    \n",
    "#K0 for components\n",
    "K0_ab = 1150\n",
    "K0_ac = 1.79\n",
    "K0_ad = 426\n",
    "K0_bc = 0.00059\n",
    "K0_bd = 426\n",
    "alpha_0 = 3.6\n",
    "b_1 = 37311\n",
    "\n",
    "      \n",
    "#Case 1 conditions\n",
    "Q = 25.7 # kg/sec\n",
    "Feed_T = 494 # K\n",
    "Cat_T = 1033 # K\n",
    "    \n",
    "#Residence time calculation\n",
    "d_R = 0.8 # m - riser dia\n",
    "r_r = d_R/2\n",
    "L_r = 33 # m- riser height\n",
    "R_a = (np.pi*r_r**2)/4\n",
    "vel_r = Q/R_a\n",
    "#t_c = L_r / vel_r # residence time in riser (in sec)\n",
    "v_s = 6.1 #m/sec as given in paper table 3 \n",
    "t_c = L_r/v_s\n",
    "R= 8.314\n",
    "    \n",
    "E_coke = 67.21 # KJ/mol given in table1\n",
    "E_ab = 59.66 # KJ/mol\n",
    "E_bd = 47.82 \n",
    "E_ac = 30.95\n",
    "E_ad = 68.83\n",
    "E_bc = 57.74\n",
    "    \n",
    "Hab = 393\n",
    "Hbd = 795\n",
    "Hac = 1200\n",
    "Had = 1150\n",
    "Hbc = 151\n",
    "    \n",
    "Cp_gasoil = 3.3 #kJ/kgK\n",
    "Cp_gasoline = 3.3 #kJ/kgK\n",
    "Cp_Lightgas = 3.3 #kJ/kgK\n",
    "Cp_coke = 1.087 #kJ/kgK\n",
    "Cp_steam = 1.9 #kJ/kgK\n",
    "\n",
    "\n",
    "# Case 1\n",
    "time_start = time.clock()\n",
    "count = []\n",
    "count_fsolve = []\n",
    "def dydz(y,z):\n",
    "    ya,yb,yc,yd,T = y\n",
    "      \n",
    "    #check whether required\n",
    "    Kab = K0_ab*np.exp((E_ab)/(R*Feed_T))\n",
    "    Kbd = K0_bd*np.exp((E_bd)/(R*Feed_T))\n",
    "    Kac = K0_ac*np.exp((E_ac)/(R*Feed_T))\n",
    "    Kad = K0_ad*np.exp((E_ad)/(R*Feed_T))\n",
    "    Kbc = K0_bc*np.exp((E_bc)/(R*Feed_T))\n",
    "\n",
    "    \n",
    "    e = 0.8\n",
    "      \n",
    "    alpha = alpha_0*np.exp(-E_coke/(R*Feed_T))\n",
    "    phi = E_coke*np.exp(-alpha*t_c)\n",
    "    \n",
    "    rh_s = 960 #kg/m3\n",
    "    \n",
    "    #dydt(1) = dyadt, dydt(2) = dybdt, dydt(3) = dyddt, dydt(4) = dycdt\n",
    "    \n",
    "    dydz1 = -((phi*R_a*(1-e))*rh_s*L_r/Q)*(Kab+Kac+Kad)*ya**2 # gas oil\n",
    "    \n",
    "    \n",
    "    dydz2 = -((phi*R_a*(1-e))*rh_s*L_r/Q)*((Kbc+Kbd)*yb-Kab*ya**2) # gasoline\n",
    "\n",
    "    dydz3 = ((phi*R_a*(1-e))*rh_s*L_r/Q)*(Kbd*yb+Kad*ya**2) #% light hydrocarbon gas\n",
    "\n",
    "    dydz4 = ((phi*R_a*(1-e))*rh_s*L_r/Q)*(Kbc*yb+Kac*ya**2) # coke\n",
    "        \n",
    "    dTdz = -((phi*(1-e)*rh_s*L_r*R_a)/(Q*10**1.1*(Cp_gasoil+Cp_gasoline+Cp_Lightgas\n",
    "            +Cp_coke+Cp_steam)))*(((ya**2)*(Kab*Hab)+(Kac*Hac)+(Kad*Had))\n",
    "            +yb*(Kbc*Hbc+Kbd*Hbd))                                                                                                       \n",
    "    \n",
    "    count.append(1)\n",
    "    return dydz1, dydz2, dydz3, dydz4,dTdz\n",
    "\n",
    "\n",
    "#####################solving the boundary condition \n",
    "\n",
    "def objective(T1):\n",
    "    sol6 = (F_s*Cp_steam*(T1-Ts) + Q*Cp_gasoil*(T_gasvap-Feed_T)+\n",
    "            Q*Cp_gasoil*(T1-T_gasvap)+Q*Hvap+(T1-Feed_T))-b_1\n",
    "    count_fsolve.append(1)\n",
    "    return sol6\n",
    "    \n",
    "s2 = []\n",
    "guess = 5\n",
    "s = fsolve(objective,guess)\n",
    "s, infodict1, ier1, message1 = fsolve(objective, guess \n",
    "                            ,args=(),xtol=1e-6,full_output=1)\n",
    "s12 = s\n",
    "\n",
    "\n",
    "sol, infodict = scipy.integrate.odeint(dydz,[Q,0,0,0,s[0]],\n",
    "                                    zspan,full_output=True)\n",
    "\n",
    "time_elapsed = (time.clock() - time_start)\n",
    "\n",
    "\n",
    "Q1_overall = 32.7\n",
    "Q1= 0.945*Q1_overall\n",
    "sol1, infodict = integrate.odeint(dydz,[Q1,0,0,0,s[0]],\n",
    "                                  zspan,full_output=True)\n",
    "\n",
    "Q2_overall = 39.7\n",
    "Q2= 0.945*Q2_overall\n",
    "\n",
    "sol2, infodict = integrate.odeint(dydz,[Q2,0,0,0,s[0]],\n",
    "                                  zspan,full_output=True)\n",
    "\n",
    "Q3_overall = 42.7\n",
    "Q3= 0.945*Q3_overall\n",
    "\n",
    "sol3, infodict = integrate.odeint(dydz,[Q3,0,0,0,s[0]],\n",
    "                                  zspan,full_output=True)\n",
    "\n",
    "\n",
    "y = sol[-1,2]/Q\n"
   ]
  },
  {
   "cell_type": "markdown",
   "metadata": {},
   "source": [
    "## 1.3 Time taken for execution of ODE solver"
   ]
  },
  {
   "cell_type": "code",
   "execution_count": 48,
   "metadata": {},
   "outputs": [
    {
     "name": "stdout",
     "output_type": "stream",
     "text": [
      "The time taken for execution of the ODE solver using Adams method is 0.0047 seconds\n",
      "The number of iterations pf ODE solver is 878.\n",
      "The number of iterations of fsolve solver is 14.\n"
     ]
    }
   ],
   "source": [
    "print('The time taken for execution of the ODE solver\n",
    "      using Adams method is {0:1.4f} \n",
    "      seconds'.format(np.double(time_elapsed)))\n",
    "\n",
    "print('The number of iterations pf ODE \n",
    "      solver is {0}.'.format(len(count)))\n",
    "\n",
    "print('The number of iterations of fsolve\n",
    "      solver is {0}.'.format(len(count_fsolve)))"
   ]
  },
  {
   "cell_type": "markdown",
   "metadata": {},
   "source": [
    "## 1.4 Concentration Profile"
   ]
  },
  {
   "cell_type": "code",
   "execution_count": 49,
   "metadata": {},
   "outputs": [
    {
     "data": {
      "image/png": "[encoded data removed]",
      "text/plain": [
       "<matplotlib.figure.Figure at 0x7f197fa4a588>"
      ]
     },
     "metadata": {},
     "output_type": "display_data"
    }
   ],
   "source": [
    "###############Concentration profile\n",
    "py.plot(zspan,sol[:,0]/Q,'--',\n",
    "        zspan,sol[:,1]/Q,'-',zspan,sol[:,2]/Q,'-.')\n",
    "py.ylim(ymax=1)\n",
    "py.xlim(xmax=35)\n",
    "py.xlabel('Riser length (in m)')\n",
    "py.ylabel('Yield %')\n",
    "py.legend(['Gas Oil','Gasoline','Light gases'])\n",
    "py.title('Riser Height vs Yield %')\n",
    "py.savefig('1.png')\n",
    "py.show()\n"
   ]
  },
  {
   "cell_type": "markdown",
   "metadata": {},
   "source": [
    "## 1.5 Riser temperature profile"
   ]
  },
  {
   "cell_type": "code",
   "execution_count": 50,
   "metadata": {},
   "outputs": [
    {
     "data": {
      "image/png": "[encoded data removed]",
      "text/plain": [
       "<matplotlib.figure.Figure at 0x7f1981960e10>"
      ]
     },
     "metadata": {},
     "output_type": "display_data"
    }
   ],
   "source": [
    "##############Riser temperature profile\n",
    "py.plot(zspan,sol[:,4])\n",
    "py.xlim(xmax=35)\n",
    "py.xlabel('Riser length (in m)')\n",
    "py.ylabel('Riser Temperature (in K)')\n",
    "py.title('Riser Height vs Riser Temperature')\n",
    "py.savefig('2.png')\n",
    "py.show()\n"
   ]
  },
  {
   "cell_type": "markdown",
   "metadata": {},
   "source": [
    "## 1.6 Conversion of Feed"
   ]
  },
  {
   "cell_type": "code",
   "execution_count": 51,
   "metadata": {},
   "outputs": [
    {
     "data": {
      "image/png": "[encoded data removed]",
      "text/plain": [
       "<matplotlib.figure.Figure at 0x7f19819d54a8>"
      ]
     },
     "metadata": {},
     "output_type": "display_data"
    }
   ],
   "source": [
    "#################Conversion of Feed\n",
    "py.plot(zspan, 1-sol[:,0]/Q)\n",
    "py.xlim(xmax=35)\n",
    "py.xlabel('Riser length (in m)')\n",
    "py.ylabel('Feed Conversion (wt%)')\n",
    "py.savefig('3.png')\n",
    "py.title('Riser Height vs Feed Conversion')\n",
    "py.show()\n"
   ]
  },
  {
   "cell_type": "markdown",
   "metadata": {},
   "source": [
    "## 1.7 Yield for varying inlet flow rates"
   ]
  },
  {
   "cell_type": "code",
   "execution_count": 52,
   "metadata": {},
   "outputs": [
    {
     "data": {
      "image/png": "[encoded data removed]",
      "text/plain": [
       "<matplotlib.figure.Figure at 0x7f197f9d9f60>"
      ]
     },
     "metadata": {},
     "output_type": "display_data"
    }
   ],
   "source": [
    "#############Yield for different flow rates\n",
    "\n",
    "py.plot(zspan,sol[:,1]/Q,zspan,sol1[:,1]/Q1,'--',\n",
    "        zspan,sol2[:,1]/Q2,'-',zspan,sol3[:,1]/Q3,'-.')\n",
    "py.ylim(ymax=1)\n",
    "py.xlim(xmax=35)\n",
    "py.xlabel('Riser length (in m)')\n",
    "py.ylabel('Gasoline Yield (wt%)')\n",
    "py.legend(['F = 25.7 kg/sec','F = 42.7 kg/sec'\n",
    "           ,'F = 39.7 kg/sec','F = 32.7 kg/sec',])\n",
    "py.title('Riser Height vs Gasoline Yield')\n",
    "py.savefig('4.png')\n",
    "py.show()\n"
   ]
  },
  {
   "cell_type": "markdown",
   "metadata": {},
   "source": [
    "## 1.8 Yield vs Conversion"
   ]
  },
  {
   "cell_type": "code",
   "execution_count": 40,
   "metadata": {},
   "outputs": [
    {
     "data": {
      "image/png": "[encoded data removed]",
      "text/plain": [
       "<matplotlib.figure.Figure at 0x7f1981aa59b0>"
      ]
     },
     "metadata": {},
     "output_type": "display_data"
    }
   ],
   "source": [
    "#############Yield vs conversion\n",
    "\n",
    "py.plot( 1-sol[:,0]/Q,sol[:,1]/Q)\n",
    "py.ylim(ymax=1)\n",
    "py.xlabel('Conversion')\n",
    "py.ylabel('Gasoline Yield (wt%)')\n",
    "py.title('Conversion vs Gasoline Yield')\n",
    "py.savefig('5.png')\n",
    "py.show()\n"
   ]
  },
  {
   "cell_type": "markdown",
   "metadata": {},
   "source": [
    "## 1.9 Gasoline flow rate vs feed inlet temperature"
   ]
  },
  {
   "cell_type": "code",
   "execution_count": 41,
   "metadata": {},
   "outputs": [
    {
     "data": {
      "image/png": "[encoded data removed]",
      "text/plain": [
       "<matplotlib.figure.Figure at 0x7f1981b1e518>"
      ]
     },
     "metadata": {},
     "output_type": "display_data"
    }
   ],
   "source": [
    "#############Gasoline flow rate  vs temperature\n",
    "t1 = []\n",
    "m1=[]\n",
    "m2=[]\n",
    "r1 =[]\n",
    "for m in range(34,22,-1):\n",
    "    sol = odeint(dydz,[m,0,0,0,868],zspan)\n",
    "    m1.append(m)\n",
    "    r1.append(m/3)\n",
    "    t1.append(sol[-1,4])\n",
    "for e in m1:\n",
    "    m2.append(e) \n",
    "py.plot(m1,t1)\n",
    "py.xlim(m1[1],m1[-1])\n",
    "py.xlabel('Decreasing Feed Flow')\n",
    "py.ylabel('Riser Temperature')\n",
    "py.title('Feed Flow Rate vs Riser Temperature')\n",
    "py.savefig('6.png')\n",
    "py.show()\n"
   ]
  },
  {
   "cell_type": "markdown",
   "metadata": {},
   "source": [
    "## 1.10 fsolve output  "
   ]
  },
  {
   "cell_type": "code",
   "execution_count": 42,
   "metadata": {},
   "outputs": [
    {
     "name": "stdout",
     "output_type": "stream",
     "text": [
      "{'nfev': 5, 'fjac': array([[-1.]]), 'r': array([-88.49565]), 'qtf': array([  1.45519152e-11]), 'fvec': array([ 0.])}\n",
      "1\n",
      "The solution converged.\n"
     ]
    }
   ],
   "source": [
    "###########output for fsolve statement \n",
    "\n",
    "print (infodict1)\n",
    "print (ier1)\n",
    "print (message1)"
   ]
  },
  {
   "cell_type": "markdown",
   "metadata": {},
   "source": [
    "## 1.11 odeint output  "
   ]
  },
  {
   "cell_type": "code",
   "execution_count": 10,
   "metadata": {},
   "outputs": [
    {
     "name": "stdout",
     "output_type": "stream",
     "text": [
      "{'hu': array([ 0.05616416,  0.07202068,  0.11331498,  0.15977594,  0.15977594,\n",
      "        0.21821442,  0.21821442,  0.21821442,  0.29712403,  0.29712403,\n",
      "        0.29712403,  0.29712403,  0.40570313,  0.40570313,  0.40570313,\n",
      "        0.40570313,  0.40570313,  0.40570313,  0.55513014,  0.55513014,\n",
      "        0.55513014,  0.55513014,  0.55513014,  0.55513014,  0.55513014,\n",
      "        0.76165108,  0.76165108,  0.76165108,  0.76165108,  0.76165108,\n",
      "        0.76165108,  0.76165108,  0.76165108,  0.76165108,  0.76165108,\n",
      "        1.04860623,  1.04860623,  1.04860623,  1.04860623,  1.04860623,\n",
      "        1.04860623,  1.04860623,  1.04860623,  1.04860623,  1.04860623,\n",
      "        1.04860623,  1.04860623,  1.04860623,  1.04860623]), 'tcur': array([  0.70181789,   1.37445508,   2.12636564,   2.78586247,\n",
      "         3.42496624,   4.12250848,   4.77715174,   5.431795  ,\n",
      "         6.16534786,   6.75959591,   7.65096799,   8.24521604,\n",
      "         8.9480432 ,   9.75944946,  10.16515259,  10.97655884,\n",
      "        11.7879651 ,  12.19366823,  13.30392852,  13.85905866,\n",
      "        14.4141888 ,  14.96931894,  15.52444908,  16.63470937,\n",
      "        17.18983951,  17.95149059,  18.71314167,  19.47479275,\n",
      "        20.23644383,  20.23644383,  20.99809492,  21.759746  ,\n",
      "        22.52139708,  23.28304816,  24.04469924,  25.09330547,\n",
      "        25.09330547,  26.14191171,  27.19051794,  27.19051794,\n",
      "        28.23912417,  29.28773041,  29.28773041,  30.33633664,\n",
      "        30.33633664,  31.38494288,  32.43354911,  32.43354911,  33.48215534]), 'tolsf': array([ 0.,  0.,  0.,  0.,  0.,  0.,  0.,  0.,  0.,  0.,  0.,  0.,  0.,\n",
      "        0.,  0.,  0.,  0.,  0.,  0.,  0.,  0.,  0.,  0.,  0.,  0.,  0.,\n",
      "        0.,  0.,  0.,  0.,  0.,  0.,  0.,  0.,  0.,  0.,  0.,  0.,  0.,\n",
      "        0.,  0.,  0.,  0.,  0.,  0.,  0.,  0.,  0.,  0.]), 'tsw': array([ 0.,  0.,  0.,  0.,  0.,  0.,  0.,  0.,  0.,  0.,  0.,  0.,  0.,\n",
      "        0.,  0.,  0.,  0.,  0.,  0.,  0.,  0.,  0.,  0.,  0.,  0.,  0.,\n",
      "        0.,  0.,  0.,  0.,  0.,  0.,  0.,  0.,  0.,  0.,  0.,  0.,  0.,\n",
      "        0.,  0.,  0.,  0.,  0.,  0.,  0.,  0.,  0.,  0.]), 'nst': array([ 31,  41,  48,  53,  57,  61,  64,  67,  70,  72,  75,  77,  79,\n",
      "        81,  82,  84,  86,  87,  89,  90,  91,  92,  93,  95,  96,  97,\n",
      "        98,  99, 100, 100, 101, 102, 103, 104, 105, 106, 106, 107, 108,\n",
      "       108, 109, 110, 110, 111, 111, 112, 113, 113, 114], dtype=int32), 'nfe': array([ 65,  85,  99, 109, 117, 125, 131, 137, 143, 147, 153, 157, 161,\n",
      "       165, 167, 171, 175, 177, 181, 183, 185, 187, 189, 193, 195, 197,\n",
      "       199, 201, 203, 203, 205, 207, 209, 211, 213, 215, 215, 217, 219,\n",
      "       219, 221, 223, 223, 225, 225, 227, 229, 229, 231], dtype=int32), 'nje': array([0, 0, 0, 0, 0, 0, 0, 0, 0, 0, 0, 0, 0, 0, 0, 0, 0, 0, 0, 0, 0, 0, 0,\n",
      "       0, 0, 0, 0, 0, 0, 0, 0, 0, 0, 0, 0, 0, 0, 0, 0, 0, 0, 0, 0, 0, 0, 0,\n",
      "       0, 0, 0], dtype=int32), 'nqu': array([6, 7, 8, 8, 8, 8, 8, 8, 8, 8, 8, 8, 8, 8, 8, 8, 8, 8, 8, 8, 8, 8, 8,\n",
      "       8, 8, 8, 8, 8, 8, 8, 8, 8, 8, 8, 8, 8, 8, 8, 8, 8, 8, 8, 8, 8, 8, 8,\n",
      "       8, 8, 8], dtype=int32), 'imxer': -1, 'lenrw': 100, 'leniw': 25, 'mused': array([1, 1, 1, 1, 1, 1, 1, 1, 1, 1, 1, 1, 1, 1, 1, 1, 1, 1, 1, 1, 1, 1, 1,\n",
      "       1, 1, 1, 1, 1, 1, 1, 1, 1, 1, 1, 1, 1, 1, 1, 1, 1, 1, 1, 1, 1, 1, 1,\n",
      "       1, 1, 1], dtype=int32), 'message': 'Integration successful.'}\n"
     ]
    }
   ],
   "source": [
    "print (infodict)"
   ]
  },
  {
   "cell_type": "markdown",
   "metadata": {},
   "source": [
    "As it can be noted in output printed \n",
    "\n",
    "\"'mused': array([1, 1, 1, 1, 1, 1, 1, 1, 1, 1, 1, 1, 1, 1, 1, 1, 1, 1, 1, 1, 1, 1, 1,\n",
    "       1, 1, 1, 1, 1, 1, 1, 1, 1, 1, 1, 1, 1, 1, 1, 1, 1, 1, 1, 1, 1, 1, 1,\n",
    "       1, 1, 1]\" \n",
    "       \n",
    "which indicates the system is non stiff and therefore uses Adams method.\n",
    "\n",
    "---------------------------------------------------------------------------------------------------------------------------------"
   ]
  },
  {
   "cell_type": "markdown",
   "metadata": {},
   "source": [
    "As it can be seen, the solution converges to give plots similar to data calculated in reference article."
   ]
  },
  {
   "cell_type": "markdown",
   "metadata": {},
   "source": [
    "# 2. Manually implemented 4th order Range Kutta Method.\n",
    "\n",
    "## 2.1 Solution to the differential equations using manually implemented 4th order explicit Range Kutta Method and comparing solution for understanding the stability of the system."
   ]
  },
  {
   "cell_type": "code",
   "execution_count": 11,
   "metadata": {},
   "outputs": [],
   "source": [
    "import timeit\n",
    "import numpy as np\n",
    "import scipy\n",
    "from scipy.integrate import odeint \n",
    "from scipy import integrate\n",
    "import matplotlib.pyplot as py\n",
    "import time\n",
    "\n",
    "x0= 0\n",
    "Q = 25.7 # kg/sec\n",
    "y0= Q\n",
    "xf = 33\n",
    "n = 900\n",
    "\n",
    "delx = (xf-x0)/(n-1)\n",
    "\n",
    "x = np.linspace(x0,xf,n)\n",
    "y1 = np.zeros([n])\n",
    "y2 = np.zeros([n])\n",
    "y3 = np.zeros([n])\n",
    "y4 = np.zeros([n])\n",
    "T = np.zeros([n])\n",
    "\n",
    "\n",
    "########################\n",
    "R = 8.314 # J/molK\n",
    "    \n",
    "#K0 for components\n",
    "    \n",
    "K0_ab = 1150\n",
    "K0_ac = 1.79\n",
    "K0_ad = 426\n",
    "K0_bc = 0.00059\n",
    "K0_bd = 426\n",
    "alpha_0 = 3.6################################### constant given in table-1\n",
    "      \n",
    "#Case 1 conditions\n",
    "Q = 25.7 # kg/sec\n",
    "Feed_T = 494 # K\n",
    "Cat_T = 1033 # K\n",
    "    \n",
    "#Residence time calculation\n",
    "d_R = 0.8 # m - riser dia\n",
    "r_r = d_R/2\n",
    "L_r = 33 # m- riser height\n",
    "R_a = (np.pi*r_r**2)/4\n",
    "vel_r = Q/R_a\n",
    "#t_c = L_r / vel_r # residence time in riser (in sec) --- can alternativly use the superficial velocity given in te table 3\n",
    "v_s = 6.1 #m/sec as given in paper table 3 \n",
    "t_c = L_r/v_s\n",
    "    \n",
    "E_coke = 67.21 # KJ/mol given in table1\n",
    "E_ab = 59.66 # KJ/mol\n",
    "E_bd = 47.82 \n",
    "E_ac = 30.95\n",
    "E_ad = 68.83\n",
    "E_bc = 57.74\n",
    "    \n",
    "Hab = 393\n",
    "Hbd = 795\n",
    "Hac = 1200\n",
    "Had = 1150\n",
    "Hbc = 151\n",
    "    \n",
    "Cp_gasoil = 3.3 #kJ/kgK\n",
    "Cp_gasoline = 3.3 #kJ/kgK\n",
    "Cp_Lightgas = 3.3 #kJ/kgK\n",
    "Cp_coke = 1.087 #kJ/kgK\n",
    "Cp_steam = 1.9 #kJ/kgK\n",
    "    \n",
    "#check whether required\n",
    "Kab = K0_ab*np.exp((E_ab)/(R*Feed_T))\n",
    "Kbd = K0_bd*np.exp((E_bd)/(R*Feed_T))\n",
    "Kac = K0_ac*np.exp((E_ac)/(R*Feed_T))\n",
    "Kad = K0_ad*np.exp((E_ad)/(R*Feed_T))\n",
    "Kbc = K0_bc*np.exp((E_bc)/(R*Feed_T))\n",
    "\n",
    "    \n",
    "    \n",
    "e = 0.8 # check the assumption\n",
    "      \n",
    "alpha = alpha_0*np.exp(-E_coke/(R*Feed_T))\n",
    "phi = E_coke*np.exp(-alpha*t_c)\n",
    "    \n",
    "rh_s = 960 #kg/m3\n",
    "    \n",
    "    ####################\n",
    "\n",
    "y1[0] = y0\n",
    "y2[0] = 0\n",
    "y3[0] = 0\n",
    "y4[0] = 0\n",
    "T[0] = 868\n",
    "\n",
    "\n",
    "    \n",
    "#time =  (timeit.timeit('char in text', setup='text = \"sample string\"; char = \"g\"'))\n",
    "#print('The time taken for execution of the code is {0:1.4f} seconds'.format(np.double(time_elapsed)))\n",
    "time_start = time.clock()\n",
    "\n",
    "\n",
    "for i in range(1,n):\n",
    "    \n",
    "    k1 = delx*(-((phi*R_a*(1-e))*rh_s*L_r/Q)*(Kab+Kac+Kad)*y1[i-1]**2)\n",
    "    k2 = delx*(-((phi*R_a*(1-e))*rh_s*L_r/Q)*(Kab+Kac+Kad)*(y1[i-1]+k1/2)**2)\n",
    "    k3 = delx*(-((phi*R_a*(1-e))*rh_s*L_r/Q)*(Kab+Kac+Kad)*(y1[i-1]+k2/2)**2)\n",
    "    k4 = delx*(-((phi*R_a*(1-e))*rh_s*L_r/Q)*(Kab+Kac+Kad)*(y1[i-1]+k3)**2)\n",
    "    y1[i] = (k1+ 2*(k2+k3)+k4)/6 + y1[i-1]\n",
    "    \n",
    "    k1_1 = delx*(-((phi*R_a*(1-e))*rh_s*L_r/Q)*((Kbc+Kbd)*y2[i-1]-Kab*y1[i]**2))\n",
    "    k2_1 = delx*(-((phi*R_a*(1-e))*rh_s*L_r/Q)*((Kbc+Kbd)*(y2[i-1]+k1/2)-Kab*y1[i]**2))\n",
    "    k3_1 = delx*(-((phi*R_a*(1-e))*rh_s*L_r/Q)*((Kbc+Kbd)*(y2[i-1]+k2/2)-Kab*y1[i]**2))\n",
    "    k4_1 = delx*(-((phi*R_a*(1-e))*rh_s*L_r/Q)*((Kbc+Kbd)*(y2[i-1]+k3)-Kab*y1[i]**2))\n",
    "    y2[i] = (k1_1+ 2*(k2_1+k3_1)+k4_1)/6 + y2[i-1]\n",
    "    \n",
    "    k1_2 = delx*(-((phi*R_a*(1-e))*rh_s*L_r/Q)*((Kbc+Kbd)*y2[i]-Kab*y1[i]**2))\n",
    "    k2_2 = delx*(-((phi*R_a*(1-e))*rh_s*L_r/Q)*((Kbc+Kbd)*y2[i]-Kab*y1[i]**2))\n",
    "    k3_2 = delx*(-((phi*R_a*(1-e))*rh_s*L_r/Q)*((Kbc+Kbd)*y2[i]-Kab*y1[i]**2))\n",
    "    k4_2 = delx*(-((phi*R_a*(1-e))*rh_s*L_r/Q)*((Kbc+Kbd)*y2[i]-Kab*y1[i]**2))\n",
    "    y3[i] = (k1_2+ 2*(k2_2+k3_2)+k4_2)/6 + y3[i-1]\n",
    "\n",
    "    k1_3 = delx*(((phi*R_a*(1-e))*rh_s*L_r/Q)*(Kbc*y2[i]+Kac*y1[i]**2))\n",
    "    k2_3 = delx*(((phi*R_a*(1-e))*rh_s*L_r/Q)*(Kbc*y2[i]+Kac*y1[i]**2))\n",
    "    k3_3 = delx*(((phi*R_a*(1-e))*rh_s*L_r/Q)*(Kbc*y2[i]+Kac*y1[i]**2))\n",
    "    k4_3 = delx*(((phi*R_a*(1-e))*rh_s*L_r/Q)*(Kbc*y2[i]+Kac*y1[i]**2))\n",
    "    y4[i] = (k1_3+ 2*(k2_3+k3_3)+k4_3)/6 + y4[i-1]\n",
    "    \n",
    "    \n",
    "    k1_4 = delx*(-((phi*(1-e)*rh_s*L_r*R_a)/(Q*10**1.1*(Cp_gasoil+Cp_gasoline+Cp_Lightgas+Cp_coke+Cp_steam)))*(((y1[i]**2)*(Kab*Hab)+(Kac*Hac)+(Kad*Had))+y2[i]*(Kbc*Hbc+Kbd*Hbd))) \n",
    "    k2_4 = delx*(-((phi*(1-e)*rh_s*L_r*R_a)/(Q*10**1.1*(Cp_gasoil+Cp_gasoline+Cp_Lightgas+Cp_coke+Cp_steam)))*(((y1[i]**2)*(Kab*Hab)+(Kac*Hac)+(Kad*Had))+y2[i]*(Kbc*Hbc+Kbd*Hbd))) \n",
    "    k3_4 = delx*(-((phi*(1-e)*rh_s*L_r*R_a)/(Q*10**1.1*(Cp_gasoil+Cp_gasoline+Cp_Lightgas+Cp_coke+Cp_steam)))*(((y1[i]**2)*(Kab*Hab)+(Kac*Hac)+(Kad*Had))+y2[i]*(Kbc*Hbc+Kbd*Hbd))) \n",
    "    k4_4 = delx*(-((phi*(1-e)*rh_s*L_r*R_a)/(Q*10**1.1*(Cp_gasoil+Cp_gasoline+Cp_Lightgas+Cp_coke+Cp_steam)))*(((y1[i]**2)*(Kab*Hab)+(Kac*Hac)+(Kad*Had))+y2[i]*(Kbc*Hbc+Kbd*Hbd))) \n",
    "    T[i] = (k1_4+ 2*(k2_4+k3_4)+k4_4)/6 + T[i-1]\n",
    "    \n",
    "    \n",
    "#time =  (timeit.timeit('char in text', setup='text = \"sample string\"; char = \"g\"'))   \n",
    "\n",
    "time_elapsed = (time.clock() - time_start)\n"
   ]
  },
  {
   "cell_type": "markdown",
   "metadata": {},
   "source": [
    "## 2.2 Computational time for executing 4th order Range Kutta Method"
   ]
  },
  {
   "cell_type": "code",
   "execution_count": 12,
   "metadata": {},
   "outputs": [
    {
     "name": "stdout",
     "output_type": "stream",
     "text": [
      "The time taken for execution of the code is 0.0441 seconds\n",
      "The number of iterations is 900.\n"
     ]
    }
   ],
   "source": [
    "print('The time taken for execution of the code is {0:1.4f} seconds'.format(np.double(time_elapsed)))\n",
    "print('The number of iterations is {0}.'.format(900))"
   ]
  },
  {
   "cell_type": "markdown",
   "metadata": {},
   "source": [
    "## 2.3 Concentration Profile "
   ]
  },
  {
   "cell_type": "code",
   "execution_count": 44,
   "metadata": {},
   "outputs": [
    {
     "data": {
      "image/png": "[encoded data removed]",
      "text/plain": [
       "<matplotlib.figure.Figure at 0x7f1981aa57b8>"
      ]
     },
     "metadata": {},
     "output_type": "display_data"
    }
   ],
   "source": [
    " ###############Concentration profile\n",
    "py.plot(x,y1/Q)\n",
    "py.plot(x,y2/Q)\n",
    "py.plot(x,y3/Q)\n",
    "py.ylim(ymax=1)\n",
    "py.xlim(xmax=35)\n",
    "py.xlabel('Riser length (in m)')\n",
    "py.ylabel('Yield %')\n",
    "py.legend(['Gas Oil','Gasoline','Light gases'])\n",
    "py.savefig('7.png')\n",
    "py.show()\n"
   ]
  },
  {
   "cell_type": "markdown",
   "metadata": {},
   "source": [
    "## 2.4 Riser temperature Profile"
   ]
  },
  {
   "cell_type": "code",
   "execution_count": 14,
   "metadata": {},
   "outputs": [
    {
     "data": {
      "image/png": "[encoded data removed]",
      "text/plain": [
       "<matplotlib.figure.Figure at 0x7f19818f3860>"
      ]
     },
     "metadata": {},
     "output_type": "display_data"
    }
   ],
   "source": [
    "##############Riser temperature profile\n",
    "py.plot(x,T)\n",
    "py.xlim(xmax=35)\n",
    "py.xlabel('Riser length (in m)')\n",
    "py.ylabel('Riser Temperature (in K)')\n",
    "py.savefig('8.png')\n",
    "py.show()\n"
   ]
  },
  {
   "cell_type": "markdown",
   "metadata": {},
   "source": [
    "## 2.5 Conversion along length of riser"
   ]
  },
  {
   "cell_type": "code",
   "execution_count": 15,
   "metadata": {},
   "outputs": [
    {
     "data": {
      "image/png": "[encoded data removed]",
      "text/plain": [
       "<matplotlib.figure.Figure at 0x7f1981922470>"
      ]
     },
     "metadata": {},
     "output_type": "display_data"
    }
   ],
   "source": [
    "#################Conversion of Feed\n",
    "py.plot(x, 1-y1/Q)\n",
    "py.xlim(xmax=35)\n",
    "py.xlabel('Riser length (in m)')\n",
    "py.ylabel('Feed Conversion (wt%)')\n",
    "py.savefig('9.png')\n",
    "py.show()\n"
   ]
  },
  {
   "cell_type": "markdown",
   "metadata": {},
   "source": [
    "## 2.6 Yield vs Conversion"
   ]
  },
  {
   "cell_type": "code",
   "execution_count": 16,
   "metadata": {},
   "outputs": [
    {
     "data": {
      "image/png": "[encoded data removed]",
      "text/plain": [
       "<matplotlib.figure.Figure at 0x7f1981afba90>"
      ]
     },
     "metadata": {},
     "output_type": "display_data"
    }
   ],
   "source": [
    "#############Yield vs conversion\n",
    "\n",
    "py.plot( 1-y1/Q,y2/Q)\n",
    "py.xlabel('Conversion')\n",
    "py.ylabel('Gasoline Yield (wt%)')\n",
    "py.ylim(ymax=1)\n",
    "py.savefig('10.png')\n",
    "py.show()\n"
   ]
  },
  {
   "cell_type": "markdown",
   "metadata": {},
   "source": [
    "As it can be seen the profiles obtained for both the methods are identical."
   ]
  },
  {
   "cell_type": "markdown",
   "metadata": {},
   "source": [
    "# 3. Boundary condition solution using Newtons Method (manually implemeted)"
   ]
  },
  {
   "cell_type": "markdown",
   "metadata": {},
   "source": [
    "The equation was manually solved using Newtons method to understand the stability of the Linear boudary condition with Newtons Raphson method. The number of iterations required for reaching the required accuracy of the solution was assessed."
   ]
  },
  {
   "cell_type": "code",
   "execution_count": 17,
   "metadata": {},
   "outputs": [
    {
     "name": "stdout",
     "output_type": "stream",
     "text": [
      "The solution is reaching convergance in 1 iteration\n",
      "The value of temperature obtained is 868.9031 K\n"
     ]
    }
   ],
   "source": [
    "####### 12032017 10.58 pm\n",
    "import numpy as np\n",
    "import scipy\n",
    "from scipy.integrate import odeint \n",
    "from scipy import integrate\n",
    "import matplotlib.pyplot as py\n",
    "import timeit\n",
    "from scipy.optimize import fsolve\n",
    "\n",
    "zspan  = np.linspace(0,33)\n",
    "Q_overall = 25.7 # kg/sec\n",
    "Q = 0.945*Q_overall\n",
    "\n",
    "F_s = 0.055*Q_overall\n",
    "Ts = 773 #K\n",
    "T_gasvap = 698 #K\n",
    "Hvap = 190 # kJ/kg\n",
    "    \n",
    "#K0 for components\n",
    "    \n",
    "K0_ab = 1150\n",
    "K0_ac = 1.79\n",
    "K0_ad = 426\n",
    "K0_bc = 0.00059\n",
    "K0_bd = 426\n",
    "alpha_0 = 3.6\n",
    "b_1 = 37311\n",
    "\n",
    "      \n",
    "#Case 1 conditions\n",
    "Q = 25.7 # kg/sec\n",
    "Feed_T = 494 # K\n",
    "Cat_T = 1033 # K\n",
    "    \n",
    "#Residence time calculation\n",
    "d_R = 0.8 # m - riser dia\n",
    "r_r = d_R/2\n",
    "L_r = 33 # m- riser height\n",
    "R_a = (np.pi*r_r**2)/4\n",
    "vel_r = Q/R_a\n",
    "v_s = 6.1 #m/sec as given in table 3 \n",
    "t_c = L_r/v_s\n",
    "    \n",
    "E_coke = 67.21 # KJ/mol given in table1\n",
    "E_ab = 59.66 # KJ/mol\n",
    "E_bd = 47.82 \n",
    "E_ac = 30.95\n",
    "E_ad = 68.83\n",
    "E_bc = 57.74\n",
    "    \n",
    "Hab = 393\n",
    "Hbd = 795\n",
    "Hac = 1200\n",
    "Had = 1150\n",
    "Hbc = 151\n",
    "    \n",
    "Cp_gasoil = 3.3 #kJ/kgK\n",
    "Cp_gasoline = 3.3 #kJ/kgK\n",
    "Cp_Lightgas = 3.3 #kJ/kgK\n",
    "Cp_coke = 1.087 #kJ/kgK\n",
    "Cp_steam = 1.9 #kJ/kgK\n",
    "\n",
    "\n",
    "# Case 1\n",
    "\n",
    "#####################solving the boundary condition \n",
    "\n",
    "def objective(T1):\n",
    "    sol6 = (F_s*Cp_steam*(T1-Ts) + Q*Cp_gasoil*(T_gasvap-Feed_T)+Q*Cp_gasoil*(T1-T_gasvap)+Q*Hvap+(T1-Feed_T))-b_1\n",
    "    \n",
    "    return sol6\n",
    "\n",
    "T5 =500\n",
    "\n",
    "for i in range(0,1000):\n",
    "    diff = F_s*Cp_steam +Q*Cp_gasoil+1\n",
    "    T6 = T5 -  ((F_s*Cp_steam*(T5-Ts) + Q*Cp_gasoil*(T_gasvap-Feed_T)+Q*Cp_gasoil*(T5-T_gasvap)+Q*Hvap+(T5-Feed_T))-b_1)/diff\n",
    "    T5 = T6\n",
    "    if np.abs(s12-T5)<1e-20:\n",
    "        break\n",
    "        \n",
    "\n",
    "print ('The solution is reaching convergance in {0} iteration'.format(i+1))\n",
    "\n",
    "\n",
    "\n",
    "s  = fsolve(objective,5,full_output=True)\n",
    "print ('The value of temperature obtained is {0:1.4f} K'.format(np.double(s[0])))"
   ]
  },
  {
   "cell_type": "markdown",
   "metadata": {},
   "source": [
    "The solution reached an error less than 0.00001 in one iteration, and solution obtained by manual implementation of Newtons method is same as the solution obtined by odient fsolve."
   ]
  },
  {
   "cell_type": "markdown",
   "metadata": {},
   "source": [
    "# 4. Manually implemented Eulers Method.\n",
    "\n",
    "## 4.1 Solution to the differential equations using manually implemented Eulers Method and comparing solution for understanding the stability of the system."
   ]
  },
  {
   "cell_type": "code",
   "execution_count": 18,
   "metadata": {},
   "outputs": [],
   "source": [
    "import numpy as np\n",
    "import scipy\n",
    "from scipy.integrate import odeint \n",
    "from scipy import integrate\n",
    "import matplotlib.pyplot as py\n",
    "import time\n",
    "\n",
    "x0= 0\n",
    "Q_overall = 25.7 # kg/sec\n",
    "Q= 0.945*Q_overall\n",
    "y0= Q\n",
    "xf = 33\n",
    "n = 900\n",
    "\n",
    "delx = (xf-x0)/(n-1)\n",
    "\n",
    "x = np.linspace(x0,xf,n)\n",
    "y1 = np.zeros([n])\n",
    "y2 = np.zeros([n])\n",
    "y3 = np.zeros([n])\n",
    "y4 = np.zeros([n])\n",
    "T = np.zeros([n])\n",
    "\n",
    "\n",
    "########################\n",
    "R = 8.314 # J/molK\n",
    "    \n",
    "#K0 for components\n",
    "    \n",
    "K0_ab = 1150\n",
    "K0_ac = 1.79\n",
    "K0_ad = 426\n",
    "K0_bc = 0.00059\n",
    "K0_bd = 426\n",
    "alpha_0 = 3.6################################### constant given in table-1\n",
    "      \n",
    "#Case 1 conditions\n",
    "Q = 25.7 # kg/sec\n",
    "Feed_T = 494 # K\n",
    "Cat_T = 1033 # K\n",
    "    \n",
    "#Residence time calculation\n",
    "d_R = 0.8 # m - riser dia\n",
    "r_r = d_R/2\n",
    "L_r = 33 # m- riser height\n",
    "R_a = (np.pi*r_r**2)/4\n",
    "vel_r = Q/R_a\n",
    "v_s = 6.1 #m/sec as given in paper table 3 \n",
    "t_c = L_r/v_s\n",
    "    \n",
    "E_coke = 67.21 # KJ/mol given in table1\n",
    "E_ab = 59.66 # KJ/mol\n",
    "E_bd = 47.82 \n",
    "E_ac = 30.95\n",
    "E_ad = 68.83\n",
    "E_bc = 57.74\n",
    "    \n",
    "Hab = 393\n",
    "Hbd = 795\n",
    "Hac = 1200\n",
    "Had = 1150\n",
    "Hbc = 151\n",
    "    \n",
    "Cp_gasoil = 3.3 #kJ/kgK\n",
    "Cp_gasoline = 3.3 #kJ/kgK\n",
    "Cp_Lightgas = 3.3 #kJ/kgK\n",
    "Cp_coke = 1.087 #kJ/kgK\n",
    "Cp_steam = 1.9 #kJ/kgK\n",
    "    \n",
    "#check whether required\n",
    "Kab = K0_ab*np.exp((E_ab)/(R*Feed_T))\n",
    "Kbd = K0_bd*np.exp((E_bd)/(R*Feed_T))\n",
    "Kac = K0_ac*np.exp((E_ac)/(R*Feed_T))\n",
    "Kad = K0_ad*np.exp((E_ad)/(R*Feed_T))\n",
    "Kbc = K0_bc*np.exp((E_bc)/(R*Feed_T))\n",
    "\n",
    "    \n",
    "    \n",
    "e = 0.8 # check the assumption\n",
    "      \n",
    "alpha = alpha_0*np.exp(-E_coke/(R*Feed_T))\n",
    "phi = E_coke*np.exp(-alpha*t_c)\n",
    "    \n",
    "rh_s = 960 #kg/m3\n",
    "    \n",
    "    ####################\n",
    "\n",
    "y1[0] = y0\n",
    "y2[0] = 0\n",
    "y3[0] = 0\n",
    "y4[0] = 0\n",
    "T[0] = 868\n",
    "\n",
    "time_start = time.clock()\n",
    "\n",
    "for i in range(1,n):\n",
    "    y1[i] = delx*(-((phi*R_a*(1-e))*rh_s*L_r/Q)*(Kab+Kac+Kad)*y1[i-1]**2)+ y1[i-1]\n",
    "        \n",
    "    y2[i] = delx*(-((phi*R_a*(1-e))*rh_s*L_r/Q)*((Kbc+Kbd)*y2[i-1]-Kab*y1[i]**2))+ y2[i-1] # gasoline\n",
    "\n",
    "    y3[i] = delx*(((phi*R_a*(1-e))*rh_s*L_r/Q)*(Kbd*y2[i]+Kad*y1[i]**2))+ y3[i-1] #% light hydrocarbon gas\n",
    "\n",
    "    y4[i] = delx*(((phi*R_a*(1-e))*rh_s*L_r/Q)*(Kbc*y2[i]+Kac*y1[i]**2))+ y4[i-1] # coke\n",
    "    \n",
    "    T[i] = delx*(-((phi*(1-e)*rh_s*L_r*R_a)/(Q*10**1.1*(Cp_gasoil+Cp_gasoline+Cp_Lightgas+Cp_coke+Cp_steam)))*(((y1[i-1]**2)*(Kab*Hab)+(Kac*Hac)+(Kad*Had))+y2[i-1]*(Kbc*Hbc+Kbd*Hbd))) + T[i-1]                           \n",
    "    \n",
    "    if np.abs(y3[i]-y3[i-1])<0.01 and np.abs(y1[i]-y1[i-1])<0.01 and np.abs(y2[i]-y2[i-1])<0.01 and np.abs(y4[i]-y4[i-1])<0.01 and np.abs(T[i]-T[i-1])<0.01:\n",
    "        break\n",
    "        \n",
    "time_elapsed = (time.clock() - time_start)"
   ]
  },
  {
   "cell_type": "markdown",
   "metadata": {},
   "source": [
    "## 4.2 Computational time for executing  Eulers Method"
   ]
  },
  {
   "cell_type": "code",
   "execution_count": 19,
   "metadata": {},
   "outputs": [
    {
     "name": "stdout",
     "output_type": "stream",
     "text": [
      "The time taken for execution of the code is 0.0189 seconds\n"
     ]
    }
   ],
   "source": [
    "print('The time taken for execution of the code is {0:1.4f} seconds'.format(np.double(time_elapsed)))\n"
   ]
  },
  {
   "cell_type": "markdown",
   "metadata": {},
   "source": [
    "## 4.3 Concentration Profile"
   ]
  },
  {
   "cell_type": "code",
   "execution_count": 45,
   "metadata": {},
   "outputs": [
    {
     "data": {
      "image/png": "[encoded data removed]",
      "text/plain": [
       "<matplotlib.figure.Figure at 0x7f19818e41d0>"
      ]
     },
     "metadata": {},
     "output_type": "display_data"
    }
   ],
   "source": [
    "###############Concentration profile\n",
    "py.plot(x,y1/Q,x,y2/Q,x,y3/Q)\n",
    "py.ylim(ymax=1)\n",
    "py.xlim(xmax=35)\n",
    "py.xlabel('Riser length (in m)')\n",
    "py.ylabel('Yield %')\n",
    "py.legend(['Gas Oil','Gasoline','Light gases'])\n",
    "py.savefig('11.png')\n",
    "py.show()\n"
   ]
  },
  {
   "cell_type": "markdown",
   "metadata": {},
   "source": [
    "## 4.4 Riser temperature profile"
   ]
  },
  {
   "cell_type": "code",
   "execution_count": 21,
   "metadata": {},
   "outputs": [
    {
     "data": {
      "image/png": "[encoded data removed]",
      "text/plain": [
       "<matplotlib.figure.Figure at 0x7f198191b7f0>"
      ]
     },
     "metadata": {},
     "output_type": "display_data"
    }
   ],
   "source": [
    "##############Riser temperature profile\n",
    "py.plot(x,T)\n",
    "py.xlim(xmax=35)\n",
    "py.xlabel('Riser length (in m)')\n",
    "py.ylabel('Riser Temperature (in K)')\n",
    "py.savefig('12.png')\n",
    "py.show()"
   ]
  },
  {
   "cell_type": "markdown",
   "metadata": {},
   "source": [
    "## 4.5 Conversion along length of riser"
   ]
  },
  {
   "cell_type": "code",
   "execution_count": 22,
   "metadata": {},
   "outputs": [
    {
     "data": {
      "image/png": "[encoded data removed]",
      "text/plain": [
       "<matplotlib.figure.Figure at 0x7f1981946c18>"
      ]
     },
     "metadata": {},
     "output_type": "display_data"
    }
   ],
   "source": [
    "#################Conversion of Feed\n",
    "py.plot(x, 1-y1/Q)\n",
    "py.xlabel('Riser length (in m)')\n",
    "py.ylabel('Feed Conversion (wt%)')\n",
    "py.xlim(xmax=35)\n",
    "py.savefig('13.png')\n",
    "py.show()"
   ]
  },
  {
   "cell_type": "markdown",
   "metadata": {},
   "source": [
    "## 4.6 Yield vs Conversion"
   ]
  },
  {
   "cell_type": "code",
   "execution_count": 23,
   "metadata": {},
   "outputs": [
    {
     "data": {
      "image/png": "[encoded data removed]",
      "text/plain": [
       "<matplotlib.figure.Figure at 0x7f19819e5be0>"
      ]
     },
     "metadata": {},
     "output_type": "display_data"
    }
   ],
   "source": [
    "#############Yield vs conversion\n",
    "\n",
    "py.plot( 1-y1/Q,y2/Q)\n",
    "py.xlabel('Conversion')\n",
    "py.ylabel('Gasoline Yield (wt%)')\n",
    "py.ylim(ymax=1)\n",
    "py.savefig('14.png')\n",
    "py.show()"
   ]
  },
  {
   "cell_type": "markdown",
   "metadata": {},
   "source": [
    "# 5. Sensitivity Analysis"
   ]
  },
  {
   "cell_type": "markdown",
   "metadata": {},
   "source": [
    "## 5.1 SENSITIVITY ANALYSIS - for gasoline flow\n",
    "\n",
    "Sensitivity analysis for gasoline flow, assuming no interation between the parmeters analysed. Detailed comparison is provided in report."
   ]
  },
  {
   "cell_type": "code",
   "execution_count": 24,
   "metadata": {},
   "outputs": [
    {
     "name": "stderr",
     "output_type": "stream",
     "text": [
      "/opt/conda/lib/python3.6/site-packages/scipy/optimize/minpack.py:161: RuntimeWarning: The iteration is not making good progress, as measured by the \n",
      "  improvement from the last ten iterations.\n",
      "  warnings.warn(msg, RuntimeWarning)\n"
     ]
    },
    {
     "data": {
      "text/plain": [
       "array([  0.00000000e+00,   0.00000000e+00,   0.00000000e+00,\n",
       "         3.35167605e-01,  -1.02770208e-03,  -2.46821038e-01,\n",
       "        -1.18646766e-07,  -8.54627524e-02,   6.15018589e-03,\n",
       "         0.00000000e+00,   1.08546287e+00,  -3.07789785e-04,\n",
       "         0.00000000e+00,   1.46946351e-04,   3.55528553e-02,\n",
       "         2.43116291e-03,   4.81135550e-03,  -9.83351103e-04,\n",
       "        -7.65332317e-06,  -4.08772910e-03,  -1.64837364e-09,\n",
       "         0.00000000e+00,   0.00000000e+00,   0.00000000e+00,\n",
       "         0.00000000e+00,   0.00000000e+00,   0.00000000e+00,\n",
       "         0.00000000e+00,   0.00000000e+00,   0.00000000e+00,\n",
       "         0.00000000e+00,   9.72268997e-04])"
      ]
     },
     "execution_count": 24,
     "metadata": {},
     "output_type": "execute_result"
    }
   ],
   "source": [
    "import numpy as np\n",
    "import scipy\n",
    "from scipy.integrate import odeint \n",
    "from scipy import integrate\n",
    "import matplotlib.pyplot as py\n",
    "import timeit\n",
    "from scipy.optimize import fsolve\n",
    "\n",
    "\n",
    "#L_r = 33 # m- riser height\n",
    "\n",
    "#Q_overall = 25.7 # kg/sec\n",
    "#Ts = 773 #K\n",
    "#T_gasvap = 698 #K\n",
    "#Hvap = 190 # kJ/kg\n",
    "R = 8.413\n",
    "    \n",
    "#K0 for components\n",
    "    \n",
    "#K0_ab = 1150\n",
    "#K0_ac = 1.79\n",
    "#K0_ad = 426\n",
    "#K0_bc = 0.00059\n",
    "#K0_bd = 426\n",
    "#alpha_0 = 3.6\n",
    "#b_1 = 37311\n",
    "\n",
    "p0 = [773,698,190,1150,1.79,426,0.00059,426,3.6,37311,25.7,494,1033,0.8,6.1,67.21,59.66,47.82,30.95,68.83,57.74,393,\n",
    "      795,1200,1150,151,3.3,3.3,3.3,1.087,1.9,33]\n",
    "\n",
    "      \n",
    "#Case 1 conditions\n",
    "#Feed_T = 494 # K\n",
    "#Cat_T = 1033 # K\n",
    "    \n",
    "#Residence time calculation\n",
    "#d_R = 0.8 # m - riser dia\n",
    "\n",
    "#t_c = L_r / vel_r # residence time in riser (in sec) \n",
    "#v_s = 6.1 #m/sec as given in paper table 3 \n",
    "\n",
    "    \n",
    "#E_coke = 67.21 # KJ/mol given in table1\n",
    "#E_ab = 59.66 # KJ/mol\n",
    "#E_bd = 47.82 \n",
    "#E_ac = 30.95\n",
    "#E_ad = 68.83\n",
    "#E_bc = 57.74\n",
    "    \n",
    "#Hab = 393\n",
    "#Hbd = 795\n",
    "#Hac = 1200\n",
    "#Had = 1150\n",
    "#Hbc = 151\n",
    "    \n",
    "#Cp_gasoil = 3.3 #kJ/kgK\n",
    "#Cp_gasoline = 3.3 #kJ/kgK\n",
    "#Cp_Lightgas = 3.3 #kJ/kgK\n",
    "#Cp_coke = 1.087 #kJ/kgK\n",
    "#Cp_steam = 1.9 #kJ/kgK\n",
    "\n",
    "\n",
    "# Case 1\n",
    "\n",
    "def model(parameters):\n",
    "    (Ts,T_gasvap,Hvap,K0_ab,K0_ac,K0_ad,K0_bc,K0_bd,alpha_0,b_1,Q_overall,Feed_T,Cat_T,d_R,v_s,E_coke,E_ab,E_bd,E_ac,E_ad,E_bc,\n",
    "     Hab,Hbd,Hac,Had,Hbc,Cp_gasoil,Cp_gasoline,Cp_Lightgas,Cp_coke,Cp_steam,L_r) =parameters ###all excepy L_r \n",
    "    Q = 0.945*Q_overall\n",
    "    F_s = 0.055*Q_overall\n",
    "    r_r = d_R/2\n",
    "    R_a = (np.pi*r_r**2)/4\n",
    "    vel_r = Q/R_a\n",
    "    t_c = L_r/v_s\n",
    "    zspan  = np.linspace(0,L_r)\n",
    "    def dydz(y,z):\n",
    "        ya,yb,yc,yd,T = y\n",
    "          \n",
    "        #check whether required\n",
    "        Kab = K0_ab*np.exp((E_ab)/(R*Feed_T))\n",
    "        Kbd = K0_bd*np.exp((E_bd)/(R*Feed_T))\n",
    "        Kac = K0_ac*np.exp((E_ac)/(R*Feed_T))\n",
    "        Kad = K0_ad*np.exp((E_ad)/(R*Feed_T))\n",
    "        Kbc = K0_bc*np.exp((E_bc)/(R*Feed_T))\n",
    "\n",
    "        e = 0.8 # check the assumption\n",
    "\n",
    "        alpha = alpha_0*np.exp(-E_coke/(R*Feed_T))\n",
    "        phi = E_coke*np.exp(-alpha*t_c)\n",
    "\n",
    "        rh_s = 960 #kg/m3\n",
    "\n",
    "        #dydt(1) = dyadt, dydt(2) = dybdt, dydt(3) = dyddt, dydt(4) = dycdt\n",
    "\n",
    "        dydz1 = -((phi*R_a*(1-e))*rh_s*L_r/Q)*(Kab+Kac+Kad)*ya**2 # gas oil\n",
    "\n",
    "\n",
    "        dydz2 = -((phi*R_a*(1-e))*rh_s*L_r/Q)*((Kbc+Kbd)*yb-Kab*ya**2) # gasoline\n",
    "\n",
    "        dydz3 = ((phi*R_a*(1-e))*rh_s*L_r/Q)*(Kbd*yb+Kad*ya**2) #% light hydrocarbon gas\n",
    "\n",
    "        dydz4 = ((phi*R_a*(1-e))*rh_s*L_r/Q)*(Kbc*yb+Kac*ya**2) # coke\n",
    "\n",
    "        dTdz = -((phi*(1-e)*rh_s*L_r*R_a)/(Q*10**1.1*(Cp_gasoil+Cp_gasoline+Cp_Lightgas+Cp_coke+Cp_steam)))*(((ya**2)*(Kab*Hab)+(Kac*Hac)+(Kad*Had))+yb*(Kbc*Hbc+Kbd*Hbd))                                                                                                       \n",
    "        return dydz1, dydz2, dydz3, dydz4,dTdz\n",
    "    \n",
    "    \n",
    "    def objective(T1):\n",
    "        sol6 = (F_s*Cp_steam*(T1-Ts) + Q*Cp_gasoil*(T_gasvap-Feed_T)+Q*Cp_gasoil*(T1-T_gasvap)+Q*Hvap+(T1-Feed_T))-b_1\n",
    "        return sol6\n",
    "    \n",
    "    s2 = []\n",
    "    s = fsolve(objective,5)\n",
    "\n",
    "    sol, infodict = scipy.integrate.odeint(dydz,[Q,0,0,0,s[0]],zspan,full_output=True)\n",
    "\n",
    "\n",
    "    T = sol[:, 4]\n",
    "    Gasoline_flow  =sol[:,1]\n",
    "    return np.max(Gasoline_flow)\n",
    "\n",
    "\n",
    "import numdifftools as nd\n",
    "df=nd.Gradient(model)\n",
    "df(p0)*p0/model(p0)    \n",
    "\n"
   ]
  },
  {
   "cell_type": "markdown",
   "metadata": {},
   "source": [
    "### 5.1.1 Sensitivity analysis results obtained:"
   ]
  },
  {
   "cell_type": "markdown",
   "metadata": {},
   "source": [
    "During sensitivity analysis numerical values (not zero) was obtained for the following varibles:\n",
    "\n",
    "Gasoil to gasoline (K0_ab) : 3.35e-01\n",
    "\n",
    "Gas oil to coke (K0_ac) -: -1.03e-03\n",
    "\n",
    "Gasoline to light gases (K0_ad) : -2.47e-01\n",
    "\n",
    "Gasoline to coke (K0_bc) : -1.18646766e-07\n",
    "\n",
    "Gas oil to light gases (K0_bd) : -8.54e-02\n",
    "\n",
    "Decay Constant (alpha_0) : 6.15018589e-03\n",
    "\n",
    "Inlet flow rate (Q_overall) : 1.08546287e+00\n",
    "\n",
    "Feed Temperature (Feed_T) : -3.07789785e-04\n",
    "\n",
    "Riser Diameter (d_R) : 1.46946351e-04\n",
    "\n",
    "Superficial velocity (v_s) : 3.55528553e-02\n",
    "\n",
    "Activation energy of coke (for deactivation ) (E_coke) : 2.43116291e-03\n",
    "\n",
    "Activation energy of Gas oil to gasoline  (E_ab) : 4.81135550e-03\n",
    "\n",
    "Activation energy of gasoil to light gasses (E_bd) : -9.83351103e-04\n",
    "\n",
    "Activation energy of gas oil to coke (E_ac) : -7.65332317e-06\n",
    "\n",
    "Activation energy of gasoline to light gases (E_ad) : -4.08772910e-03\n",
    "\n",
    "Activation energy of Gasoline to coke (KE_bc) : -1.64837364e-09\n",
    "\n",
    "Riser Length (L_r) : 9.72268997e-04\n"
   ]
  },
  {
   "cell_type": "markdown",
   "metadata": {},
   "source": [
    "## 5.2 SENSITIVITY ANALYSIS - for maximum feed temperature\n",
    "\n",
    "Sensitivity analysis for maximum temperature, assuming no interation between the parmeters analysed. Detailed comparison is provided in report."
   ]
  },
  {
   "cell_type": "code",
   "execution_count": 25,
   "metadata": {
    "scrolled": true
   },
   "outputs": [
    {
     "name": "stderr",
     "output_type": "stream",
     "text": [
      "/opt/conda/lib/python3.6/site-packages/scipy/optimize/minpack.py:161: RuntimeWarning: The iteration is not making good progress, as measured by the \n",
      "  improvement from the last ten iterations.\n",
      "  warnings.warn(msg, RuntimeWarning)\n"
     ]
    },
    {
     "data": {
      "text/plain": [
       "array([ 0.02773245,  0.        , -0.06164216,  0.        ,  0.        ,\n",
       "        0.        ,  0.        ,  0.        ,  0.        ,  0.49842085,\n",
       "       -0.49309123,  0.53548886,  0.        ,  0.        ,  0.        ,\n",
       "        0.        ,  0.        ,  0.        ,  0.        ,  0.        ,\n",
       "        0.        ,  0.        ,  0.        ,  0.        ,  0.        ,\n",
       "        0.        , -0.42714508,  0.        ,  0.        ,  0.        ,\n",
       "       -0.00430399,  0.        ])"
      ]
     },
     "execution_count": 25,
     "metadata": {},
     "output_type": "execute_result"
    }
   ],
   "source": [
    "\n",
    "####### 12032017 10.58 pm\n",
    "import numpy as np\n",
    "import scipy\n",
    "from scipy.integrate import odeint \n",
    "from scipy import integrate\n",
    "import matplotlib.pyplot as py\n",
    "import timeit\n",
    "from scipy.optimize import fsolve\n",
    "\n",
    "#Q_overall = 25.7 # kg/sec\n",
    "#Ts = 773 #K\n",
    "#T_gasvap = 698 #K\n",
    "#Hvap = 190 # kJ/kg\n",
    "R = 8.413\n",
    "    \n",
    "#K0 for components\n",
    "    \n",
    "#K0_ab = 1150\n",
    "#K0_ac = 1.79\n",
    "#K0_ad = 426\n",
    "#K0_bc = 0.00059\n",
    "#K0_bd = 426\n",
    "#alpha_0 = 3.6################################### constant given in table-1\n",
    "#b_1 = 37311\n",
    "\n",
    "#L_r = 33 # m- riser height\n",
    "\n",
    "\n",
    "p0 = [773,698,190,1150,1.79,426,0.00059,426,3.6,37311,25.7,494,1033,0.8,6.1,67.21,59.66,47.82,30.95,68.83,57.74,393,\n",
    "      795,1200,1150,151,3.3,3.3,3.3,1.087,1.9,33]\n",
    "\n",
    "#Case 1 conditions\n",
    "#Feed_T = 494 # K\n",
    "#Cat_T = 1033 # K\n",
    "    \n",
    "#Residence time calculation\n",
    "#d_R = 0.8 # m - riser dia\n",
    "\n",
    "#t_c = L_r / vel_r # residence time in riser (in sec) --- can alternativly use the superficial velocity given in te table 3\n",
    "#v_s = 6.1 #m/sec as given in paper table 3 \n",
    "\n",
    "    \n",
    "#E_coke = 67.21 # KJ/mol given in table1\n",
    "#E_ab = 59.66 # KJ/mol\n",
    "#E_bd = 47.82 \n",
    "#E_ac = 30.95\n",
    "#E_ad = 68.83\n",
    "#E_bc = 57.74\n",
    "    \n",
    "#Hab = 393\n",
    "#Hbd = 795\n",
    "#Hac = 1200\n",
    "#Had = 1150\n",
    "#Hbc = 151\n",
    "    \n",
    "#Cp_gasoil = 3.3 #kJ/kgK\n",
    "#Cp_gasoline = 3.3 #kJ/kgK\n",
    "#Cp_Lightgas = 3.3 #kJ/kgK\n",
    "#Cp_coke = 1.087 #kJ/kgK\n",
    "#Cp_steam = 1.9 #kJ/kgK\n",
    "\n",
    "\n",
    "# Case 1\n",
    "\n",
    "#####################solving the boundary condition \n",
    "def model(parameters):\n",
    "    (Ts,T_gasvap,Hvap,K0_ab,K0_ac,K0_ad,K0_bc,K0_bd,alpha_0,b_1,Q_overall,Feed_T,Cat_T,d_R,v_s,E_coke,E_ab,E_bd,E_ac,E_ad,E_bc,\n",
    "     Hab,Hbd,Hac,Had,Hbc,Cp_gasoil,Cp_gasoline,Cp_Lightgas,Cp_coke,Cp_steam,L_r) =parameters ###all except L_r \n",
    "    zspan  = np.linspace(0,L_r)\n",
    "\n",
    "    Q = 0.945*Q_overall\n",
    "    F_s = 0.055*Q_overall\n",
    "    r_r = d_R/2\n",
    "    R_a = (np.pi*r_r**2)/4\n",
    "    vel_r = Q/R_a\n",
    "    t_c = L_r/v_s\n",
    "    \n",
    "    def dydz(y,z):\n",
    "        ya,yb,yc,yd,T = y\n",
    "      \n",
    "        #check whether required\n",
    "        Kab = K0_ab*np.exp((E_ab)/(R*Feed_T))\n",
    "        Kbd = K0_bd*np.exp((E_bd)/(R*Feed_T))\n",
    "        Kac = K0_ac*np.exp((E_ac)/(R*Feed_T))\n",
    "        Kad = K0_ad*np.exp((E_ad)/(R*Feed_T))\n",
    "        Kbc = K0_bc*np.exp((E_bc)/(R*Feed_T))\n",
    "\n",
    "        e = 0.8 # check the assumption\n",
    "\n",
    "        alpha = alpha_0*np.exp(-E_coke/(R*Feed_T))\n",
    "        phi = E_coke*np.exp(-alpha*t_c)\n",
    "\n",
    "        rh_s = 960 #kg/m3\n",
    "\n",
    "        #dydt(1) = dyadt, dydt(2) = dybdt, dydt(3) = dyddt, dydt(4) = dycdt\n",
    "\n",
    "        dydz1 = -((phi*R_a*(1-e))*rh_s*L_r/Q)*(Kab+Kac+Kad)*ya**2 # gas oil\n",
    "\n",
    "\n",
    "        dydz2 = -((phi*R_a*(1-e))*rh_s*L_r/Q)*((Kbc+Kbd)*yb-Kab*ya**2) # gasoline\n",
    "\n",
    "        dydz3 = ((phi*R_a*(1-e))*rh_s*L_r/Q)*(Kbd*yb+Kad*ya**2) #% light hydrocarbon gas\n",
    "\n",
    "        dydz4 = ((phi*R_a*(1-e))*rh_s*L_r/Q)*(Kbc*yb+Kac*ya**2) # coke\n",
    "\n",
    "        dTdz = -((phi*(1-e)*rh_s*L_r*R_a)/(Q*10**1.1*(Cp_gasoil+Cp_gasoline+Cp_Lightgas+Cp_coke+Cp_steam)))*(((ya**2)*(Kab*Hab)+(Kac*Hac)+(Kad*Had))+yb*(Kbc*Hbc+Kbd*Hbd))                                                                                                       \n",
    "        return dydz1, dydz2, dydz3, dydz4,dTdz\n",
    "    \n",
    "    \n",
    "    def objective(T1):\n",
    "        sol6 = (F_s*Cp_steam*(T1-Ts) + Q*Cp_gasoil*(T_gasvap-Feed_T)+Q*Cp_gasoil*(T1-T_gasvap)+Q*Hvap+(T1-Feed_T))-b_1\n",
    "        return sol6\n",
    "    \n",
    "    s2 = []\n",
    "    s = fsolve(objective,5)\n",
    "\n",
    "    sol, infodict = scipy.integrate.odeint(dydz,[Q,0,0,0,s[0]],zspan,full_output=True)\n",
    "\n",
    "\n",
    "    T = sol[:, 4]\n",
    "    Gasoline_flow  =sol[:,1]\n",
    "    return np.max(T)\n",
    "\n",
    "\n",
    "import numdifftools as nd\n",
    "df=nd.Gradient(model)\n",
    "df(p0)*p0/model(p0)    "
   ]
  },
  {
   "cell_type": "markdown",
   "metadata": {},
   "source": [
    "### 5.2.1 Sensitivity analysis results:"
   ]
  },
  {
   "cell_type": "markdown",
   "metadata": {},
   "source": [
    "During sensitivity analysis numerical values (not zero) was obtained for the following varibles:\n",
    "\n",
    "Steam Temperature (Ts) : 0.02773245\n",
    "\n",
    "Gas oil enthalpy of vaporization (Hvap) : -0.06164216\n",
    "\n",
    "Inlet flow rate (Q_overall) : -0.49309123\n",
    "\n",
    "Feed Temperature (Feed_T) : 0.53548886\n",
    "\n",
    "Gas oil (Cp_gasoil) : -0.42714508\n",
    "\n",
    "Steam (Cp_steam) : -0.00430399\n"
   ]
  },
  {
   "cell_type": "markdown",
   "metadata": {},
   "source": [
    "# 6. Plots for optimizing critical parameters\n",
    "\n",
    "Based on the Sensitivity analysis, the following parameters has evaluated for optimized results"
   ]
  },
  {
   "cell_type": "markdown",
   "metadata": {},
   "source": [
    "## 6.1 Variation of Feed temperature - Riser temperature and Product flow"
   ]
  },
  {
   "cell_type": "code",
   "execution_count": 53,
   "metadata": {},
   "outputs": [
    {
     "data": {
      "image/png": "[encoded data removed]",
      "text/plain": [
       "<matplotlib.figure.Figure at 0x7f197fa63e80>"
      ]
     },
     "metadata": {},
     "output_type": "display_data"
    },
    {
     "data": {
      "image/png": "[encoded data removed]",
      "text/plain": [
       "<matplotlib.figure.Figure at 0x7f198193e9e8>"
      ]
     },
     "metadata": {},
     "output_type": "display_data"
    }
   ],
   "source": [
    "import numpy as np\n",
    "import scipy\n",
    "from scipy.integrate import odeint \n",
    "from scipy import integrate\n",
    "import matplotlib.pyplot as py\n",
    "import timeit\n",
    "from scipy.optimize import fsolve\n",
    "\n",
    "Q_overall = 25.7 # kg/sec\n",
    "Ts = 773 #K\n",
    "T_gasvap = 698 #K\n",
    "Hvap = 190 # kJ/kg\n",
    "R = 8.413\n",
    "    \n",
    "#K0 for components\n",
    "    \n",
    "K0_ab = 1150\n",
    "K0_ac = 1.79\n",
    "K0_ad = 426\n",
    "K0_bc = 0.00059\n",
    "K0_bd = 426\n",
    "alpha_0 = 3.6################################### constant given in table-1\n",
    "b_1 = 37311\n",
    "\n",
    "L_r = 33 # m- riser height\n",
    "\n",
    "\n",
    "p0 = [773,698,190,1150,1.79,426,0.00059,426,3.6,37311,25.7,494,1033,0.8,6.1,67.21,59.66,47.82,30.95,68.83,57.74,393,\n",
    "      795,1200,1150,151,3.3,3.3,3.3,1.087,1.9,33]\n",
    "\n",
    "#Case 1 conditions\n",
    "Cat_T = 1033 # K\n",
    "   \n",
    "#Residence time calculation\n",
    "d_R = 0.8 # m - riser dia\n",
    "\n",
    "v_s = 6.1 #m/sec as given in paper table 3 \n",
    "\n",
    "    \n",
    "E_coke = 67.21 # KJ/mol given in table1\n",
    "E_ab = 59.66 # KJ/mol\n",
    "E_bd = 47.82 \n",
    "E_ac = 30.95\n",
    "E_ad = 68.83\n",
    "E_bc = 57.74\n",
    "    \n",
    "Hab = 393\n",
    "Hbd = 795\n",
    "Hac = 1200\n",
    "Had = 1150\n",
    "Hbc = 151\n",
    "    \n",
    "Cp_gasoil = 3.3 #kJ/kgK\n",
    "Cp_gasoline = 3.3 #kJ/kgK\n",
    "Cp_Lightgas = 3.3 #kJ/kgK\n",
    "Cp_coke = 1.087 #kJ/kgK\n",
    "Cp_steam = 1.9 #kJ/kgK\n",
    "\n",
    "zspan  = np.linspace(0,L_r)\n",
    "\n",
    "Temp1=[]\n",
    "gasoil =[]\n",
    "Gasoline_flow = []\n",
    "Light_gas = []\n",
    "coke=[]\n",
    "\n",
    "f_t = np.linspace(200,600,100)\n",
    "# Case 1\n",
    "\n",
    "for Feed_T in f_t:\n",
    "    \n",
    "\n",
    "    Q = 0.945*Q_overall\n",
    "    F_s = 0.055*Q_overall\n",
    "    r_r = d_R/2\n",
    "    R_a = (np.pi*r_r**2)/4\n",
    "    vel_r = Q/R_a\n",
    "    t_c = L_r/v_s\n",
    "    \n",
    "    def dydz(y,z):\n",
    "        ya,yb,yc,yd,T = y\n",
    "      \n",
    "        #check whether required\n",
    "        Kab = K0_ab*np.exp((E_ab)/(R*Feed_T))\n",
    "        Kbd = K0_bd*np.exp((E_bd)/(R*Feed_T))\n",
    "        Kac = K0_ac*np.exp((E_ac)/(R*Feed_T))\n",
    "        Kad = K0_ad*np.exp((E_ad)/(R*Feed_T))\n",
    "        Kbc = K0_bc*np.exp((E_bc)/(R*Feed_T))\n",
    "\n",
    "        e = 0.8 # check the assumption\n",
    "\n",
    "        alpha = alpha_0*np.exp(-E_coke/(R*Feed_T))\n",
    "        phi = E_coke*np.exp(-alpha*t_c)\n",
    "\n",
    "        rh_s = 960 #kg/m3\n",
    "\n",
    "        #dydt(1) = dyadt, dydt(2) = dybdt, dydt(3) = dyddt, dydt(4) = dycdt\n",
    "\n",
    "        dydz1 = -((phi*R_a*(1-e))*rh_s*L_r/Q)*(Kab+Kac+Kad)*ya**2 # gas oil\n",
    "\n",
    "\n",
    "        dydz2 = -((phi*R_a*(1-e))*rh_s*L_r/Q)*((Kbc+Kbd)*yb-Kab*ya**2) # gasoline\n",
    "\n",
    "        dydz3 = ((phi*R_a*(1-e))*rh_s*L_r/Q)*(Kbd*yb+Kad*ya**2) #% light hydrocarbon gas\n",
    "\n",
    "        dydz4 = ((phi*R_a*(1-e))*rh_s*L_r/Q)*(Kbc*yb+Kac*ya**2) # coke\n",
    "\n",
    "        dTdz = -((phi*(1-e)*rh_s*L_r*R_a)/(Q*10**1.1*(Cp_gasoil+Cp_gasoline+Cp_Lightgas+Cp_coke+Cp_steam)))*(((ya**2)*(Kab*Hab)+(Kac*Hac)+(Kad*Had))+yb*(Kbc*Hbc+Kbd*Hbd))                                                                                                       \n",
    "        return dydz1, dydz2, dydz3, dydz4,dTdz\n",
    "    \n",
    "    \n",
    "    sol, infodict = scipy.integrate.odeint(dydz,[Q,0,0,0,868],zspan,full_output=True)\n",
    "    Temp1.append(sol[-1,4])\n",
    "    Gasoline_flow.append(sol[-1,1])\n",
    "    gasoil.append(sol[-1,0])\n",
    "    Light_gas.append(sol[-1,2])\n",
    "    coke.append(sol[-1,3])\n",
    "py.plot(f_t,Temp1)\n",
    "py.xlabel('Inlet Feed Temperature (in K)')\n",
    "py.ylabel('Riser Temperature (in K)')\n",
    "py.title('Inlet Feed Temperature vs Riser Temperature')\n",
    "py.plot()\n",
    "py.savefig('16.png')\n",
    "py.show()\n",
    "\n",
    "py.plot(f_t,gasoil,f_t,Gasoline_flow,f_t,Light_gas)\n",
    "py.xlabel('Inlet Feed Temperature (in K)')\n",
    "py.ylabel('Flow Rate (in kg/sec)')\n",
    "py.title('Inlet Feed Temperature vs Product flow rate')\n",
    "py.legend(['Gas Oil','Gasoline','Light Gas'])\n",
    "py.plot()\n",
    "py.savefig('17.png')\n",
    "py.show()\n"
   ]
  },
  {
   "cell_type": "markdown",
   "metadata": {},
   "source": [
    "## 6.2 Variation of Feed flow rate - Riser temperature"
   ]
  },
  {
   "cell_type": "code",
   "execution_count": 54,
   "metadata": {},
   "outputs": [
    {
     "data": {
      "image/png": "[encoded data removed]",
      "text/plain": [
       "<matplotlib.figure.Figure at 0x7f19819181d0>"
      ]
     },
     "metadata": {},
     "output_type": "display_data"
    }
   ],
   "source": [
    "import numpy as np\n",
    "import scipy\n",
    "from scipy.integrate import odeint \n",
    "from scipy import integrate\n",
    "import matplotlib.pyplot as py\n",
    "import timeit\n",
    "from scipy.optimize import fsolve\n",
    "\n",
    "#Q_overall = 25.7 # kg/sec\n",
    "Ts = 773 #K\n",
    "T_gasvap = 698 #K\n",
    "Hvap = 190 # kJ/kg\n",
    "R = 8.413\n",
    "    \n",
    "#K0 for components\n",
    "    \n",
    "K0_ab = 1150\n",
    "K0_ac = 1.79\n",
    "K0_ad = 426\n",
    "K0_bc = 0.00059\n",
    "K0_bd = 426\n",
    "alpha_0 = 3.6\n",
    "b_1 = 37311\n",
    "\n",
    "L_r = 33 # m- riser height\n",
    "\n",
    "\n",
    "p0 = [773,698,190,1150,1.79,426,0.00059,426,3.6,37311,25.7,494,1033,0.8,6.1,67.21,59.66,47.82,30.95,68.83,57.74,393,\n",
    "      795,1200,1150,151,3.3,3.3,3.3,1.087,1.9,33]\n",
    "\n",
    "#Case 1 conditions\n",
    "Feed_T = 494 # K\n",
    "Cat_T = 1033 # K\n",
    "   \n",
    "#Residence time calculation\n",
    "d_R = 0.8 # m - riser dia\n",
    "\n",
    "t_c = L_r / vel_r # residence time in riser (in sec) --- can alternativly use the superficial velocity given in te table 3\n",
    "v_s = 6.1 #m/sec as given in paper table 3 \n",
    "\n",
    "    \n",
    "E_coke = 67.21 # KJ/mol given in table1\n",
    "E_ab = 59.66 # KJ/mol\n",
    "E_bd = 47.82 \n",
    "E_ac = 30.95\n",
    "E_ad = 68.83\n",
    "E_bc = 57.74\n",
    "    \n",
    "Hab = 393\n",
    "Hbd = 795\n",
    "Hac = 1200\n",
    "Had = 1150\n",
    "Hbc = 151\n",
    "    \n",
    "Cp_gasoil = 3.3 #kJ/kgK\n",
    "Cp_gasoline = 3.3 #kJ/kgK\n",
    "Cp_Lightgas = 3.3 #kJ/kgK\n",
    "Cp_coke = 1.087 #kJ/kgK\n",
    "Cp_steam = 1.9 #kJ/kgK\n",
    "\n",
    "zspan  = np.linspace(0,L_r)\n",
    "\n",
    "Temp1=[]\n",
    "gasoil =[]\n",
    "Gasoline_flow = []\n",
    "Light_gas = []\n",
    "coke=[]\n",
    "\n",
    "f_t = np.linspace(20,70,100)\n",
    "# Case 1\n",
    "\n",
    "for Q_overall in f_t:\n",
    "    \n",
    "    \n",
    "    Q = 0.945*Q_overall\n",
    "    F_s = 0.055*Q_overall\n",
    "    r_r = d_R/2\n",
    "    R_a = (np.pi*r_r**2)/4\n",
    "    vel_r = Q/R_a\n",
    "    t_c = L_r/v_s\n",
    "    \n",
    "    def dydz(y,z):\n",
    "        ya,yb,yc,yd,T = y\n",
    "      \n",
    "        #check whether required\n",
    "        Kab = K0_ab*np.exp((E_ab)/(R*Feed_T))\n",
    "        Kbd = K0_bd*np.exp((E_bd)/(R*Feed_T))\n",
    "        Kac = K0_ac*np.exp((E_ac)/(R*Feed_T))\n",
    "        Kad = K0_ad*np.exp((E_ad)/(R*Feed_T))\n",
    "        Kbc = K0_bc*np.exp((E_bc)/(R*Feed_T))\n",
    "\n",
    "        e = 0.8 # check the assumption\n",
    "\n",
    "        alpha = alpha_0*np.exp(-E_coke/(R*Feed_T))\n",
    "        phi = E_coke*np.exp(-alpha*t_c)\n",
    "\n",
    "        rh_s = 960 #kg/m3\n",
    "\n",
    "        #dydt(1) = dyadt, dydt(2) = dybdt, dydt(3) = dyddt, dydt(4) = dycdt\n",
    "\n",
    "        dydz1 = -((phi*R_a*(1-e))*rh_s*L_r/Q)*(Kab+Kac+Kad)*ya**2 # gas oil\n",
    "\n",
    "\n",
    "        dydz2 = -((phi*R_a*(1-e))*rh_s*L_r/Q)*((Kbc+Kbd)*yb-Kab*ya**2) # gasoline\n",
    "\n",
    "        dydz3 = ((phi*R_a*(1-e))*rh_s*L_r/Q)*(Kbd*yb+Kad*ya**2) #% light hydrocarbon gas\n",
    "\n",
    "        dydz4 = ((phi*R_a*(1-e))*rh_s*L_r/Q)*(Kbc*yb+Kac*ya**2) # coke\n",
    "\n",
    "        dTdz = -((phi*(1-e)*rh_s*L_r*R_a)/(Q*10**1.1*(Cp_gasoil+Cp_gasoline+Cp_Lightgas+Cp_coke+Cp_steam)))*(((ya**2)*(Kab*Hab)+(Kac*Hac)+(Kad*Had))+yb*(Kbc*Hbc+Kbd*Hbd))                                                                                                       \n",
    "        return dydz1, dydz2, dydz3, dydz4,dTdz\n",
    "    \n",
    "    \n",
    "    sol, infodict = scipy.integrate.odeint(dydz,[Q,0,0,0,868],zspan,full_output=True)\n",
    "    Temp1.append(sol[-1,4])\n",
    "    Gasoline_flow.append(sol[-1,1])\n",
    "    gasoil.append(sol[-1,0])\n",
    "    Light_gas.append(sol[-1,2])\n",
    "    coke.append(sol[-1,3])\n",
    "    \n",
    "py.plot(f_t,Temp1)\n",
    "py.xlabel('Feed Flow Rate (in kg/sec)')\n",
    "py.ylabel('Riser Temperature (in K)')\n",
    "py.title('Feed flow rate vs Riser Temperature')\n",
    "py.plot()\n",
    "py.savefig('18.png')\n",
    "py.show()\n",
    "\n"
   ]
  },
  {
   "cell_type": "markdown",
   "metadata": {},
   "source": [
    "## 6.3 Variation of Riser length on Product flow"
   ]
  },
  {
   "cell_type": "code",
   "execution_count": 55,
   "metadata": {},
   "outputs": [
    {
     "data": {
      "image/png": "[encoded data removed]",
      "text/plain": [
       "<matplotlib.figure.Figure at 0x7f1981b85208>"
      ]
     },
     "metadata": {},
     "output_type": "display_data"
    },
    {
     "name": "stdout",
     "output_type": "stream",
     "text": [
      "The maximum value of Gasoline flow is obtained for Riser Height of 33.6364 m \n"
     ]
    }
   ],
   "source": [
    "import numpy as np\n",
    "import scipy\n",
    "from scipy.integrate import odeint \n",
    "from scipy import integrate\n",
    "import matplotlib.pyplot as py\n",
    "import timeit\n",
    "from scipy.optimize import fsolve\n",
    "\n",
    "Q_overall = 25.7 # kg/sec\n",
    "Ts = 773 #K\n",
    "T_gasvap = 698 #K\n",
    "Hvap = 190 # kJ/kg\n",
    "R = 8.413\n",
    "    \n",
    "#K0 for components\n",
    "    \n",
    "K0_ab = 1150\n",
    "K0_ac = 1.79\n",
    "K0_ad = 426\n",
    "K0_bc = 0.00059\n",
    "K0_bd = 426\n",
    "alpha_0 = 3.6\n",
    "b_1 = 37311\n",
    "\n",
    "#L_r = 33 # m- riser height\n",
    "\n",
    "\n",
    "p0 = [773,698,190,1150,1.79,426,0.00059,426,3.6,37311,25.7,494,1033,0.8,6.1,67.21,59.66,47.82,30.95,68.83,57.74,393,\n",
    "      795,1200,1150,151,3.3,3.3,3.3,1.087,1.9,33]\n",
    "\n",
    "#Case 1 conditions\n",
    "Feed_T = 494 # K\n",
    "Cat_T = 1033 # K\n",
    "   \n",
    "#Residence time calculation\n",
    "d_R = 0.8 # m - riser dia\n",
    "\n",
    "t_c = L_r / vel_r # residence time in riser (in sec) --- can alternativly use the superficial velocity given in te table 3\n",
    "v_s = 6.1 #m/sec as given in paper table 3 \n",
    "\n",
    "    \n",
    "E_coke = 67.21 # KJ/mol given in table1\n",
    "E_ab = 59.66 # KJ/mol\n",
    "E_bd = 47.82 \n",
    "E_ac = 30.95\n",
    "E_ad = 68.83\n",
    "E_bc = 57.74\n",
    "    \n",
    "Hab = 393\n",
    "Hbd = 795\n",
    "Hac = 1200\n",
    "Had = 1150\n",
    "Hbc = 151\n",
    "    \n",
    "Cp_gasoil = 3.3 #kJ/kgK\n",
    "Cp_gasoline = 3.3 #kJ/kgK\n",
    "Cp_Lightgas = 3.3 #kJ/kgK\n",
    "Cp_coke = 1.087 #kJ/kgK\n",
    "Cp_steam = 1.9 #kJ/kgK\n",
    "\n",
    "\n",
    "\n",
    "Temp1=[]\n",
    "gasoil =[]\n",
    "Gasoline_flow = []\n",
    "Light_gas = []\n",
    "coke=[]\n",
    "\n",
    "f_t = np.linspace(10,70,100)\n",
    "# Case 1\n",
    "\n",
    "#####################solving the boundary condition \n",
    "for L_r in f_t:\n",
    "    zspan  = np.linspace(0,L_r)\n",
    "    \n",
    "    Q = 0.945*Q_overall\n",
    "    F_s = 0.055*Q_overall\n",
    "    r_r = d_R/2\n",
    "    R_a = (np.pi*r_r**2)/4\n",
    "    vel_r = Q/R_a\n",
    "    t_c = L_r/v_s\n",
    "    \n",
    "    def dydz(y,z):\n",
    "        ya,yb,yc,yd,T = y\n",
    "      \n",
    "        #check whether required\n",
    "        Kab = K0_ab*np.exp((E_ab)/(R*Feed_T))\n",
    "        Kbd = K0_bd*np.exp((E_bd)/(R*Feed_T))\n",
    "        Kac = K0_ac*np.exp((E_ac)/(R*Feed_T))\n",
    "        Kad = K0_ad*np.exp((E_ad)/(R*Feed_T))\n",
    "        Kbc = K0_bc*np.exp((E_bc)/(R*Feed_T))\n",
    "\n",
    "        e = 0.8 # check the assumption\n",
    "\n",
    "        alpha = alpha_0*np.exp(-E_coke/(R*Feed_T))\n",
    "        phi = E_coke*np.exp(-alpha*t_c)\n",
    "\n",
    "        rh_s = 960 #kg/m3\n",
    "\n",
    "        #dydt(1) = dyadt, dydt(2) = dybdt, dydt(3) = dyddt, dydt(4) = dycdt\n",
    "\n",
    "        dydz1 = -((phi*R_a*(1-e))*rh_s*L_r/Q)*(Kab+Kac+Kad)*ya**2 # gas oil\n",
    "\n",
    "\n",
    "        dydz2 = -((phi*R_a*(1-e))*rh_s*L_r/Q)*((Kbc+Kbd)*yb-Kab*ya**2) # gasoline\n",
    "\n",
    "        dydz3 = ((phi*R_a*(1-e))*rh_s*L_r/Q)*(Kbd*yb+Kad*ya**2) #% light hydrocarbon gas\n",
    "\n",
    "        dydz4 = ((phi*R_a*(1-e))*rh_s*L_r/Q)*(Kbc*yb+Kac*ya**2) # coke\n",
    "\n",
    "        dTdz = -((phi*(1-e)*rh_s*L_r*R_a)/(Q*10**1.1*(Cp_gasoil+Cp_gasoline+Cp_Lightgas+Cp_coke+Cp_steam)))*(((ya**2)*(Kab*Hab)+(Kac*Hac)+(Kad*Had))+yb*(Kbc*Hbc+Kbd*Hbd))                                                                                                       \n",
    "        return dydz1, dydz2, dydz3, dydz4,dTdz\n",
    "    \n",
    "    \n",
    "    sol, infodict = scipy.integrate.odeint(dydz,[Q,0,0,0,868],zspan,full_output=True)\n",
    "    Temp1.append(sol[-1,4])\n",
    "    Gasoline_flow.append(sol[-1,1])\n",
    "    gasoil.append(sol[-1,0])\n",
    "    Light_gas.append(sol[-1,2])\n",
    "    coke.append(sol[-1,3])\n",
    "\n",
    "\n",
    "py.plot(f_t,gasoil,f_t,Gasoline_flow,f_t,Light_gas)\n",
    "py.xlabel('Riser Length (in m)')\n",
    "py.ylabel('Flow Rate (in kg/sec)')\n",
    "py.legend(['Gas Oil','Gasoline','Light Gas'])\n",
    "py.title('Feed flow rate vs Product Flow Rate')\n",
    "py.plot()\n",
    "py.savefig('20.png')\n",
    "py.show()\n",
    "\n",
    "print ('The maximum value of Gasoline flow is obtained for Riser Height of {0:1.4f} m '.format(np.double(f_t[np.where(np.double(Gasoline_flow) > 14.6674446)])))\n"
   ]
  },
  {
   "cell_type": "markdown",
   "metadata": {},
   "source": [
    "It can be noted from the graph that the Gasoline production is maximum at riser height of 33.636 m is required for maximizing the flow rate of Gasoline, which is the desired product. "
   ]
  },
  {
   "cell_type": "markdown",
   "metadata": {},
   "source": [
    "## 6.4 Gasoline production at varying inlet flow rate for different riser heights "
   ]
  },
  {
   "cell_type": "code",
   "execution_count": 29,
   "metadata": {},
   "outputs": [
    {
     "data": {
      "image/png": "[encoded data removed]",
      "text/plain": [
       "<matplotlib.figure.Figure at 0x7f1981b55b70>"
      ]
     },
     "metadata": {},
     "output_type": "display_data"
    }
   ],
   "source": [
    "import numpy as np\n",
    "import scipy\n",
    "from scipy.integrate import odeint \n",
    "from scipy import integrate\n",
    "import matplotlib.pyplot as py\n",
    "import timeit\n",
    "from scipy.optimize import fsolve\n",
    "\n",
    "Q_overall = 25.7 # kg/sec\n",
    "Ts = 773 #K\n",
    "T_gasvap = 698 #K\n",
    "Hvap = 190 # kJ/kg\n",
    "R = 8.413\n",
    "    \n",
    "#K0 for components\n",
    "    \n",
    "K0_ab = 1150\n",
    "K0_ac = 1.79\n",
    "K0_ad = 426\n",
    "K0_bc = 0.00059\n",
    "K0_bd = 426\n",
    "alpha_0 = 3.6\n",
    "b_1 = 37311\n",
    "\n",
    "#L_r = 33 # m- riser height\n",
    "\n",
    "\n",
    "p0 = [773,698,190,1150,1.79,426,0.00059,426,3.6,37311,25.7,494,1033,0.8,6.1,67.21,59.66,47.82,30.95,68.83,57.74,393,\n",
    "      795,1200,1150,151,3.3,3.3,3.3,1.087,1.9,33]\n",
    "\n",
    "#Case 1 conditions\n",
    "Feed_T = 494 # K\n",
    "Cat_T = 1033 # K\n",
    "   \n",
    "#Residence time calculation\n",
    "d_R = 0.8 # m - riser dia\n",
    "v_s = 6.1 #m/sec as given in paper table 3 \n",
    "\n",
    "    \n",
    "E_coke = 67.21 # KJ/mol given in table1\n",
    "E_ab = 59.66 # KJ/mol\n",
    "E_bd = 47.82 \n",
    "E_ac = 30.95\n",
    "E_ad = 68.83\n",
    "E_bc = 57.74\n",
    "    \n",
    "Hab = 393\n",
    "Hbd = 795\n",
    "Hac = 1200\n",
    "Had = 1150\n",
    "Hbc = 151\n",
    "    \n",
    "Cp_gasoil = 3.3 #kJ/kgK\n",
    "Cp_gasoline = 3.3 #kJ/kgK\n",
    "Cp_Lightgas = 3.3 #kJ/kgK\n",
    "Cp_coke = 1.087 #kJ/kgK\n",
    "Cp_steam = 1.9 #kJ/kgK\n",
    "\n",
    "\n",
    "\n",
    "Temp1=[]\n",
    "gasoil =[]\n",
    "Gasoline_flow = []\n",
    "Light_gas = []\n",
    "coke=[]\n",
    "\n",
    "f_t = [10,30,40,60]\n",
    "# Case 1\n",
    "\n",
    "#####################solving the boundary condition \n",
    "for L_r in f_t:\n",
    "    f_t1 = np.linspace(20,70,100)\n",
    "    zspan  = np.linspace(0,L_r)\n",
    "    for Q_overall in f_t1:\n",
    "        \n",
    "\n",
    "        Q = 0.945*Q_overall\n",
    "        F_s = 0.055*Q_overall\n",
    "        r_r = d_R/2\n",
    "        R_a = (np.pi*r_r**2)/4\n",
    "        vel_r = Q/R_a\n",
    "        t_c = L_r/v_s\n",
    "\n",
    "        def dydz(y,z):\n",
    "            ya,yb,yc,yd,T = y\n",
    "\n",
    "            #check whether required\n",
    "            Kab = K0_ab*np.exp((E_ab)/(R*Feed_T))\n",
    "            Kbd = K0_bd*np.exp((E_bd)/(R*Feed_T))\n",
    "            Kac = K0_ac*np.exp((E_ac)/(R*Feed_T))\n",
    "            Kad = K0_ad*np.exp((E_ad)/(R*Feed_T))\n",
    "            Kbc = K0_bc*np.exp((E_bc)/(R*Feed_T))\n",
    "\n",
    "            e = 0.8 # check the assumption\n",
    "\n",
    "            alpha = alpha_0*np.exp(-E_coke/(R*Feed_T))\n",
    "            phi = E_coke*np.exp(-alpha*t_c)\n",
    "\n",
    "            rh_s = 960 #kg/m3\n",
    "\n",
    "            #dydt(1) = dyadt, dydt(2) = dybdt, dydt(3) = dyddt, dydt(4) = dycdt\n",
    "\n",
    "            dydz1 = -((phi*R_a*(1-e))*rh_s*L_r/Q)*(Kab+Kac+Kad)*ya**2 # gas oil\n",
    "\n",
    "\n",
    "            dydz2 = -((phi*R_a*(1-e))*rh_s*L_r/Q)*((Kbc+Kbd)*yb-Kab*ya**2) # gasoline\n",
    "\n",
    "            dydz3 = ((phi*R_a*(1-e))*rh_s*L_r/Q)*(Kbd*yb+Kad*ya**2) #% light hydrocarbon gas\n",
    "\n",
    "            dydz4 = ((phi*R_a*(1-e))*rh_s*L_r/Q)*(Kbc*yb+Kac*ya**2) # coke\n",
    "\n",
    "            dTdz = -((phi*(1-e)*rh_s*L_r*R_a)/(Q*10**1.1*(Cp_gasoil+Cp_gasoline+Cp_Lightgas+Cp_coke+Cp_steam)))*(((ya**2)*(Kab*Hab)+(Kac*Hac)+(Kad*Had))+yb*(Kbc*Hbc+Kbd*Hbd))                                                                                                       \n",
    "            return dydz1, dydz2, dydz3, dydz4,dTdz\n",
    "    \n",
    "    \n",
    "        sol, infodict = scipy.integrate.odeint(dydz,[Q,0,0,0,868],zspan,full_output=True)\n",
    "        Temp1.append(sol[-1,4])\n",
    "        Gasoline_flow.append(sol[-1,1])\n",
    "        gasoil.append(sol[-1,0])\n",
    "        Light_gas.append(sol[-1,2])\n",
    "        coke.append(sol[-1,3])\n",
    "\n",
    "    py.plot(f_t1,Gasoline_flow,'-')\n",
    "    Temp1=[]\n",
    "    gasoil =[]\n",
    "    Gasoline_flow = []\n",
    "    Light_gas = []\n",
    "    coke=[]\n",
    "\n",
    "py.xlabel('Feed flow rate  (in kg/sec)')\n",
    "py.ylabel('Gasoline Flow Rate (in kg/sec)')\n",
    "py.legend(['Riser Height =10 m','Riser Height =30 m','Riser Height =40 m','Riser Height =60 m'])\n",
    "py.title('Feed flow rate vs Gasoline Flow Rate')\n",
    "py.savefig('21.png')\n",
    "py.show()\n",
    "\n",
    "\n"
   ]
  },
  {
   "cell_type": "markdown",
   "metadata": {},
   "source": [
    "As it can observed from previous plot the maximum Gasoline production is for riser height in the range of 30 m. But from this interactive plot it can be noted that increase in Gasoline flow is increasing at a higher slope for riser height of 30m."
   ]
  },
  {
   "cell_type": "code",
   "execution_count": null,
   "metadata": {},
   "outputs": [],
   "source": []
  }
 ],
 "metadata": {
  "kernelspec": {
   "display_name": "Python 3",
   "language": "python",
   "name": "python3"
  },
  "language_info": {
   "codemirror_mode": {
    "name": "ipython",
    "version": 3
   },
   "file_extension": ".py",
   "mimetype": "text/x-python",
   "name": "python",
   "nbconvert_exporter": "python",
   "pygments_lexer": "ipython3",
   "version": "3.6.5"
  },
  "toc": {
   "colors": {
    "hover_highlight": "#DAA520",
    "navigate_num": "#000000",
    "navigate_text": "#333333",
    "running_highlight": "#FF0000",
    "selected_highlight": "#FFD700",
    "sidebar_border": "#EEEEEE",
    "wrapper_background": "#FFFFFF"
   },
   "moveMenuLeft": true,
   "nav_menu": {
    "height": "512px",
    "width": "252px"
   },
   "navigate_menu": true,
   "number_sections": true,
   "sideBar": true,
   "threshold": 4,
   "toc_cell": false,
   "toc_section_display": "block",
   "toc_window_display": false,
   "widenNotebook": false
  }
 },
 "nbformat": 4,
 "nbformat_minor": 2
}
